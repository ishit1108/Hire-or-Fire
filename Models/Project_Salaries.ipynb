{
  "cells": [
    {
      "cell_type": "code",
      "execution_count": null,
      "metadata": {
        "id": "_KBlxqWQWPIp"
      },
      "outputs": [],
      "source": [
        "import pandas as pd\n",
        "import numpy as np"
      ]
    },
    {
      "cell_type": "code",
      "execution_count": null,
      "metadata": {
        "id": "wsJDz33kWPIr"
      },
      "outputs": [],
      "source": [
        "def remove_outlier(df_in, col_name):\n",
        "    q1 = df_in[col_name].quantile(0.005)\n",
        "    q3 = df_in[col_name].quantile(0.995)\n",
        "    iqr = q3-q1 #Interquartile range\n",
        "    fence_low  = q1-1.5*iqr\n",
        "    fence_high = q3+1.5*iqr\n",
        "    df_out = df_in.loc[(df_in[col_name] > fence_low) & (df_in[col_name] < fence_high)]\n",
        "    return df_out\n"
      ]
    },
    {
      "cell_type": "code",
      "execution_count": null,
      "metadata": {
        "id": "1gPkdvLlWPIt"
      },
      "outputs": [],
      "source": [
        "df = pd.read_csv('/content/Salaries.csv')\n",
        "df = remove_outlier(df, 'yearsExperience')\n",
        "df = remove_outlier(df, 'milesFromMetropolis')\n",
        "df = remove_outlier(df, 'salary')"
      ]
    },
    {
      "cell_type": "code",
      "execution_count": null,
      "metadata": {
        "id": "9qil9NI9WPIu"
      },
      "outputs": [],
      "source": [
        "x_columns = df.columns\n",
        "# x_columns"
      ]
    },
    {
      "cell_type": "code",
      "execution_count": null,
      "metadata": {
        "id": "FlyJKVX2WPIu"
      },
      "outputs": [],
      "source": [
        "x_columns = x_columns.drop('salary')"
      ]
    },
    {
      "cell_type": "code",
      "execution_count": null,
      "metadata": {
        "id": "kHD5irDeWPIu"
      },
      "outputs": [],
      "source": [
        "X = df[x_columns]\n",
        "Y = df['salary']"
      ]
    },
    {
      "cell_type": "code",
      "execution_count": null,
      "metadata": {
        "colab": {
          "base_uri": "https://localhost:8080/",
          "height": 424
        },
        "id": "E0d_4eo3WPIv",
        "outputId": "1d4b9176-27b0-4e69-f78a-9a064537f09c"
      },
      "outputs": [
        {
          "data": {
            "text/html": [
              "\n",
              "  <div id=\"df-807b2182-5f33-4b24-aeec-d02a1f99c410\">\n",
              "    <div class=\"colab-df-container\">\n",
              "      <div>\n",
              "<style scoped>\n",
              "    .dataframe tbody tr th:only-of-type {\n",
              "        vertical-align: middle;\n",
              "    }\n",
              "\n",
              "    .dataframe tbody tr th {\n",
              "        vertical-align: top;\n",
              "    }\n",
              "\n",
              "    .dataframe thead th {\n",
              "        text-align: right;\n",
              "    }\n",
              "</style>\n",
              "<table border=\"1\" class=\"dataframe\">\n",
              "  <thead>\n",
              "    <tr style=\"text-align: right;\">\n",
              "      <th></th>\n",
              "      <th>jobType</th>\n",
              "      <th>degree</th>\n",
              "      <th>major</th>\n",
              "      <th>industry</th>\n",
              "      <th>yearsExperience</th>\n",
              "      <th>milesFromMetropolis</th>\n",
              "    </tr>\n",
              "  </thead>\n",
              "  <tbody>\n",
              "    <tr>\n",
              "      <th>0</th>\n",
              "      <td>CFO</td>\n",
              "      <td>MASTERS</td>\n",
              "      <td>MATH</td>\n",
              "      <td>HEALTH</td>\n",
              "      <td>10</td>\n",
              "      <td>83</td>\n",
              "    </tr>\n",
              "    <tr>\n",
              "      <th>1</th>\n",
              "      <td>CEO</td>\n",
              "      <td>HIGH_SCHOOL</td>\n",
              "      <td>NONE</td>\n",
              "      <td>WEB</td>\n",
              "      <td>3</td>\n",
              "      <td>73</td>\n",
              "    </tr>\n",
              "    <tr>\n",
              "      <th>2</th>\n",
              "      <td>VICE_PRESIDENT</td>\n",
              "      <td>DOCTORAL</td>\n",
              "      <td>PHYSICS</td>\n",
              "      <td>HEALTH</td>\n",
              "      <td>10</td>\n",
              "      <td>38</td>\n",
              "    </tr>\n",
              "    <tr>\n",
              "      <th>3</th>\n",
              "      <td>MANAGER</td>\n",
              "      <td>DOCTORAL</td>\n",
              "      <td>CHEMISTRY</td>\n",
              "      <td>AUTO</td>\n",
              "      <td>8</td>\n",
              "      <td>17</td>\n",
              "    </tr>\n",
              "    <tr>\n",
              "      <th>4</th>\n",
              "      <td>VICE_PRESIDENT</td>\n",
              "      <td>BACHELORS</td>\n",
              "      <td>PHYSICS</td>\n",
              "      <td>FINANCE</td>\n",
              "      <td>8</td>\n",
              "      <td>16</td>\n",
              "    </tr>\n",
              "    <tr>\n",
              "      <th>...</th>\n",
              "      <td>...</td>\n",
              "      <td>...</td>\n",
              "      <td>...</td>\n",
              "      <td>...</td>\n",
              "      <td>...</td>\n",
              "      <td>...</td>\n",
              "    </tr>\n",
              "    <tr>\n",
              "      <th>999995</th>\n",
              "      <td>VICE_PRESIDENT</td>\n",
              "      <td>BACHELORS</td>\n",
              "      <td>CHEMISTRY</td>\n",
              "      <td>HEALTH</td>\n",
              "      <td>19</td>\n",
              "      <td>94</td>\n",
              "    </tr>\n",
              "    <tr>\n",
              "      <th>999996</th>\n",
              "      <td>CTO</td>\n",
              "      <td>HIGH_SCHOOL</td>\n",
              "      <td>NONE</td>\n",
              "      <td>FINANCE</td>\n",
              "      <td>12</td>\n",
              "      <td>35</td>\n",
              "    </tr>\n",
              "    <tr>\n",
              "      <th>999997</th>\n",
              "      <td>JUNIOR</td>\n",
              "      <td>HIGH_SCHOOL</td>\n",
              "      <td>NONE</td>\n",
              "      <td>EDUCATION</td>\n",
              "      <td>16</td>\n",
              "      <td>81</td>\n",
              "    </tr>\n",
              "    <tr>\n",
              "      <th>999998</th>\n",
              "      <td>CFO</td>\n",
              "      <td>MASTERS</td>\n",
              "      <td>NONE</td>\n",
              "      <td>HEALTH</td>\n",
              "      <td>6</td>\n",
              "      <td>5</td>\n",
              "    </tr>\n",
              "    <tr>\n",
              "      <th>999999</th>\n",
              "      <td>JUNIOR</td>\n",
              "      <td>BACHELORS</td>\n",
              "      <td>NONE</td>\n",
              "      <td>EDUCATION</td>\n",
              "      <td>20</td>\n",
              "      <td>11</td>\n",
              "    </tr>\n",
              "  </tbody>\n",
              "</table>\n",
              "<p>1000000 rows × 6 columns</p>\n",
              "</div>\n",
              "      <button class=\"colab-df-convert\" onclick=\"convertToInteractive('df-807b2182-5f33-4b24-aeec-d02a1f99c410')\"\n",
              "              title=\"Convert this dataframe to an interactive table.\"\n",
              "              style=\"display:none;\">\n",
              "        \n",
              "  <svg xmlns=\"http://www.w3.org/2000/svg\" height=\"24px\"viewBox=\"0 0 24 24\"\n",
              "       width=\"24px\">\n",
              "    <path d=\"M0 0h24v24H0V0z\" fill=\"none\"/>\n",
              "    <path d=\"M18.56 5.44l.94 2.06.94-2.06 2.06-.94-2.06-.94-.94-2.06-.94 2.06-2.06.94zm-11 1L8.5 8.5l.94-2.06 2.06-.94-2.06-.94L8.5 2.5l-.94 2.06-2.06.94zm10 10l.94 2.06.94-2.06 2.06-.94-2.06-.94-.94-2.06-.94 2.06-2.06.94z\"/><path d=\"M17.41 7.96l-1.37-1.37c-.4-.4-.92-.59-1.43-.59-.52 0-1.04.2-1.43.59L10.3 9.45l-7.72 7.72c-.78.78-.78 2.05 0 2.83L4 21.41c.39.39.9.59 1.41.59.51 0 1.02-.2 1.41-.59l7.78-7.78 2.81-2.81c.8-.78.8-2.07 0-2.86zM5.41 20L4 18.59l7.72-7.72 1.47 1.35L5.41 20z\"/>\n",
              "  </svg>\n",
              "      </button>\n",
              "      \n",
              "  <style>\n",
              "    .colab-df-container {\n",
              "      display:flex;\n",
              "      flex-wrap:wrap;\n",
              "      gap: 12px;\n",
              "    }\n",
              "\n",
              "    .colab-df-convert {\n",
              "      background-color: #E8F0FE;\n",
              "      border: none;\n",
              "      border-radius: 50%;\n",
              "      cursor: pointer;\n",
              "      display: none;\n",
              "      fill: #1967D2;\n",
              "      height: 32px;\n",
              "      padding: 0 0 0 0;\n",
              "      width: 32px;\n",
              "    }\n",
              "\n",
              "    .colab-df-convert:hover {\n",
              "      background-color: #E2EBFA;\n",
              "      box-shadow: 0px 1px 2px rgba(60, 64, 67, 0.3), 0px 1px 3px 1px rgba(60, 64, 67, 0.15);\n",
              "      fill: #174EA6;\n",
              "    }\n",
              "\n",
              "    [theme=dark] .colab-df-convert {\n",
              "      background-color: #3B4455;\n",
              "      fill: #D2E3FC;\n",
              "    }\n",
              "\n",
              "    [theme=dark] .colab-df-convert:hover {\n",
              "      background-color: #434B5C;\n",
              "      box-shadow: 0px 1px 3px 1px rgba(0, 0, 0, 0.15);\n",
              "      filter: drop-shadow(0px 1px 2px rgba(0, 0, 0, 0.3));\n",
              "      fill: #FFFFFF;\n",
              "    }\n",
              "  </style>\n",
              "\n",
              "      <script>\n",
              "        const buttonEl =\n",
              "          document.querySelector('#df-807b2182-5f33-4b24-aeec-d02a1f99c410 button.colab-df-convert');\n",
              "        buttonEl.style.display =\n",
              "          google.colab.kernel.accessAllowed ? 'block' : 'none';\n",
              "\n",
              "        async function convertToInteractive(key) {\n",
              "          const element = document.querySelector('#df-807b2182-5f33-4b24-aeec-d02a1f99c410');\n",
              "          const dataTable =\n",
              "            await google.colab.kernel.invokeFunction('convertToInteractive',\n",
              "                                                     [key], {});\n",
              "          if (!dataTable) return;\n",
              "\n",
              "          const docLinkHtml = 'Like what you see? Visit the ' +\n",
              "            '<a target=\"_blank\" href=https://colab.research.google.com/notebooks/data_table.ipynb>data table notebook</a>'\n",
              "            + ' to learn more about interactive tables.';\n",
              "          element.innerHTML = '';\n",
              "          dataTable['output_type'] = 'display_data';\n",
              "          await google.colab.output.renderOutput(dataTable, element);\n",
              "          const docLink = document.createElement('div');\n",
              "          docLink.innerHTML = docLinkHtml;\n",
              "          element.appendChild(docLink);\n",
              "        }\n",
              "      </script>\n",
              "    </div>\n",
              "  </div>\n",
              "  "
            ],
            "text/plain": [
              "               jobType       degree      major   industry  yearsExperience  \\\n",
              "0                  CFO      MASTERS       MATH     HEALTH               10   \n",
              "1                  CEO  HIGH_SCHOOL       NONE        WEB                3   \n",
              "2       VICE_PRESIDENT     DOCTORAL    PHYSICS     HEALTH               10   \n",
              "3              MANAGER     DOCTORAL  CHEMISTRY       AUTO                8   \n",
              "4       VICE_PRESIDENT    BACHELORS    PHYSICS    FINANCE                8   \n",
              "...                ...          ...        ...        ...              ...   \n",
              "999995  VICE_PRESIDENT    BACHELORS  CHEMISTRY     HEALTH               19   \n",
              "999996             CTO  HIGH_SCHOOL       NONE    FINANCE               12   \n",
              "999997          JUNIOR  HIGH_SCHOOL       NONE  EDUCATION               16   \n",
              "999998             CFO      MASTERS       NONE     HEALTH                6   \n",
              "999999          JUNIOR    BACHELORS       NONE  EDUCATION               20   \n",
              "\n",
              "        milesFromMetropolis  \n",
              "0                        83  \n",
              "1                        73  \n",
              "2                        38  \n",
              "3                        17  \n",
              "4                        16  \n",
              "...                     ...  \n",
              "999995                   94  \n",
              "999996                   35  \n",
              "999997                   81  \n",
              "999998                    5  \n",
              "999999                   11  \n",
              "\n",
              "[1000000 rows x 6 columns]"
            ]
          },
          "execution_count": 7,
          "metadata": {},
          "output_type": "execute_result"
        }
      ],
      "source": [
        "X"
      ]
    },
    {
      "cell_type": "code",
      "execution_count": null,
      "metadata": {
        "colab": {
          "base_uri": "https://localhost:8080/"
        },
        "id": "B3xBaMflWPIw",
        "outputId": "44a83d1b-4a63-4d61-8a90-d9d205253a23"
      },
      "outputs": [
        {
          "data": {
            "text/plain": [
              "Index(['jobType', 'degree', 'major', 'industry', 'yearsExperience',\n",
              "       'milesFromMetropolis'],\n",
              "      dtype='object')"
            ]
          },
          "execution_count": 8,
          "metadata": {},
          "output_type": "execute_result"
        }
      ],
      "source": [
        "X.columns"
      ]
    },
    {
      "cell_type": "code",
      "execution_count": null,
      "metadata": {
        "colab": {
          "base_uri": "https://localhost:8080/"
        },
        "id": "BORDN8dwWPIw",
        "outputId": "c0cee654-c848-4bd1-f0e5-917cd819b93c"
      },
      "outputs": [
        {
          "name": "stderr",
          "output_type": "stream",
          "text": [
            "/usr/local/lib/python3.7/dist-packages/ipykernel_launcher.py:6: SettingWithCopyWarning: \n",
            "A value is trying to be set on a copy of a slice from a DataFrame.\n",
            "Try using .loc[row_indexer,col_indexer] = value instead\n",
            "\n",
            "See the caveats in the documentation: https://pandas.pydata.org/pandas-docs/stable/user_guide/indexing.html#returning-a-view-versus-a-copy\n",
            "  \n",
            "/usr/local/lib/python3.7/dist-packages/ipykernel_launcher.py:7: SettingWithCopyWarning: \n",
            "A value is trying to be set on a copy of a slice from a DataFrame.\n",
            "Try using .loc[row_indexer,col_indexer] = value instead\n",
            "\n",
            "See the caveats in the documentation: https://pandas.pydata.org/pandas-docs/stable/user_guide/indexing.html#returning-a-view-versus-a-copy\n",
            "  import sys\n",
            "/usr/local/lib/python3.7/dist-packages/ipykernel_launcher.py:8: SettingWithCopyWarning: \n",
            "A value is trying to be set on a copy of a slice from a DataFrame.\n",
            "Try using .loc[row_indexer,col_indexer] = value instead\n",
            "\n",
            "See the caveats in the documentation: https://pandas.pydata.org/pandas-docs/stable/user_guide/indexing.html#returning-a-view-versus-a-copy\n",
            "  \n",
            "/usr/local/lib/python3.7/dist-packages/ipykernel_launcher.py:9: SettingWithCopyWarning: \n",
            "A value is trying to be set on a copy of a slice from a DataFrame.\n",
            "Try using .loc[row_indexer,col_indexer] = value instead\n",
            "\n",
            "See the caveats in the documentation: https://pandas.pydata.org/pandas-docs/stable/user_guide/indexing.html#returning-a-view-versus-a-copy\n",
            "  if __name__ == '__main__':\n"
          ]
        }
      ],
      "source": [
        "from sklearn.model_selection import train_test_split\n",
        "from sklearn.metrics import mean_squared_error\n",
        "# Label Encoding Data\n",
        "from sklearn.preprocessing import LabelEncoder\n",
        "le = LabelEncoder()\n",
        "X['jobType']=le.fit_transform(X['jobType'])\n",
        "X['degree']=le.fit_transform(X['degree'])\n",
        "X['major']=le.fit_transform(X['major'])\n",
        "X['industry']=le.fit_transform(X['industry'])\n",
        "X.head()\n",
        "X_train, X_test, y_train, y_test = train_test_split(X, Y, test_size = 0.2, random_state = 42)\n"
      ]
    },
    {
      "cell_type": "code",
      "execution_count": null,
      "metadata": {
        "id": "oz6StGDbWPIx"
      },
      "outputs": [],
      "source": [
        "from sklearn.preprocessing import MinMaxScaler\n",
        "scaling = MinMaxScaler(feature_range=(-1,1)).fit(X_train)\n",
        "X_train = scaling.transform(X_train)\n",
        "X_test = scaling.transform(X_test)\n",
        "X_train_all = scaling.transform(X)"
      ]
    },
    {
      "cell_type": "code",
      "execution_count": null,
      "metadata": {
        "id": "3CgfZCtdWPI0"
      },
      "outputs": [],
      "source": [
        "# create an ann\n",
        "from keras.models import Sequential\n",
        "from keras.layers import Dense\n",
        "from keras.layers import Dropout\n",
        "# import early stopping\n",
        "from keras.callbacks import EarlyStopping\n",
        "es = EarlyStopping(monitor='mean_squared_error', mode='min', verbose=1, patience=5)\n",
        "\n",
        "regressor = Sequential()\n",
        "regressor.add(Dense(units = 256, kernel_initializer = 'uniform', activation = 'relu', input_dim = X.shape[1]))\n",
        "regressor.add(Dropout(0.5))\n",
        "regressor.add(Dense(units = 128, kernel_initializer = 'uniform', activation = 'relu'))\n",
        "regressor.add(Dropout(0.5))\n",
        "regressor.add(Dense(units = 64, kernel_initializer = 'uniform', activation = 'relu'))\n",
        "regressor.add(Dropout(0.5))\n",
        "regressor.add(Dense(units = 32, kernel_initializer = 'uniform', activation = 'relu'))\n",
        "regressor.add(Dropout(0.5))\n",
        "regressor.add(Dense(units = 1, kernel_initializer = 'uniform', activation = 'linear'))\n",
        "\n",
        "regressor.compile(optimizer = 'adam', loss = 'mean_squared_error', metrics = ['accuracy'])"
      ]
    },
    {
      "cell_type": "code",
      "execution_count": null,
      "metadata": {
        "colab": {
          "background_save": true,
          "base_uri": "https://localhost:8080/"
        },
        "id": "MBz9b8ahWPI0",
        "outputId": "82f796fd-cffc-461e-aecd-2b0188ddadc9"
      },
      "outputs": [
        {
          "name": "stdout",
          "output_type": "stream",
          "text": [
            "Epoch 1/15\n",
            "24992/25000 [============================>.] - ETA: 0s - loss: 1496.6235 - accuracy: 0.0000e+00"
          ]
        },
        {
          "name": "stderr",
          "output_type": "stream",
          "text": [
            "WARNING:tensorflow:Early stopping conditioned on metric `mean_squared_error` which is not available. Available metrics are: loss,accuracy\n"
          ]
        },
        {
          "name": "stdout",
          "output_type": "stream",
          "text": [
            "25000/25000 [==============================] - 85s 3ms/step - loss: 1496.4867 - accuracy: 0.0000e+00\n",
            "Epoch 2/15\n",
            "24989/25000 [============================>.] - ETA: 0s - loss: 942.2173 - accuracy: 0.0000e+00"
          ]
        },
        {
          "name": "stderr",
          "output_type": "stream",
          "text": [
            "WARNING:tensorflow:Early stopping conditioned on metric `mean_squared_error` which is not available. Available metrics are: loss,accuracy\n"
          ]
        },
        {
          "name": "stdout",
          "output_type": "stream",
          "text": [
            "25000/25000 [==============================] - 82s 3ms/step - loss: 942.1985 - accuracy: 0.0000e+00\n",
            "Epoch 3/15\n",
            "24991/25000 [============================>.] - ETA: 0s - loss: 831.3221 - accuracy: 0.0000e+00"
          ]
        },
        {
          "name": "stderr",
          "output_type": "stream",
          "text": [
            "WARNING:tensorflow:Early stopping conditioned on metric `mean_squared_error` which is not available. Available metrics are: loss,accuracy\n"
          ]
        },
        {
          "name": "stdout",
          "output_type": "stream",
          "text": [
            "25000/25000 [==============================] - 83s 3ms/step - loss: 831.2891 - accuracy: 0.0000e+00\n",
            "Epoch 4/15\n",
            "24995/25000 [============================>.] - ETA: 0s - loss: 746.5990 - accuracy: 0.0000e+00"
          ]
        },
        {
          "name": "stderr",
          "output_type": "stream",
          "text": [
            "WARNING:tensorflow:Early stopping conditioned on metric `mean_squared_error` which is not available. Available metrics are: loss,accuracy\n"
          ]
        },
        {
          "name": "stdout",
          "output_type": "stream",
          "text": [
            "25000/25000 [==============================] - 79s 3ms/step - loss: 746.5757 - accuracy: 0.0000e+00\n",
            "Epoch 5/15\n",
            "24987/25000 [============================>.] - ETA: 0s - loss: 690.9114 - accuracy: 0.0000e+00"
          ]
        },
        {
          "name": "stderr",
          "output_type": "stream",
          "text": [
            "WARNING:tensorflow:Early stopping conditioned on metric `mean_squared_error` which is not available. Available metrics are: loss,accuracy\n"
          ]
        },
        {
          "name": "stdout",
          "output_type": "stream",
          "text": [
            "25000/25000 [==============================] - 78s 3ms/step - loss: 690.9153 - accuracy: 0.0000e+00\n",
            "Epoch 6/15\n",
            "24997/25000 [============================>.] - ETA: 0s - loss: 656.1801 - accuracy: 0.0000e+00"
          ]
        },
        {
          "name": "stderr",
          "output_type": "stream",
          "text": [
            "WARNING:tensorflow:Early stopping conditioned on metric `mean_squared_error` which is not available. Available metrics are: loss,accuracy\n"
          ]
        },
        {
          "name": "stdout",
          "output_type": "stream",
          "text": [
            "25000/25000 [==============================] - 79s 3ms/step - loss: 656.1733 - accuracy: 0.0000e+00\n",
            "Epoch 7/15\n",
            "24994/25000 [============================>.] - ETA: 0s - loss: 645.5062 - accuracy: 0.0000e+00"
          ]
        },
        {
          "name": "stderr",
          "output_type": "stream",
          "text": [
            "WARNING:tensorflow:Early stopping conditioned on metric `mean_squared_error` which is not available. Available metrics are: loss,accuracy\n"
          ]
        },
        {
          "name": "stdout",
          "output_type": "stream",
          "text": [
            "25000/25000 [==============================] - 80s 3ms/step - loss: 645.4951 - accuracy: 0.0000e+00\n",
            "Epoch 8/15\n",
            "24990/25000 [============================>.] - ETA: 0s - loss: 641.0825 - accuracy: 0.0000e+00"
          ]
        },
        {
          "name": "stderr",
          "output_type": "stream",
          "text": [
            "WARNING:tensorflow:Early stopping conditioned on metric `mean_squared_error` which is not available. Available metrics are: loss,accuracy\n"
          ]
        },
        {
          "name": "stdout",
          "output_type": "stream",
          "text": [
            "25000/25000 [==============================] - 78s 3ms/step - loss: 641.1186 - accuracy: 0.0000e+00\n",
            "Epoch 9/15\n",
            "24995/25000 [============================>.] - ETA: 0s - loss: 637.4810 - accuracy: 0.0000e+00"
          ]
        },
        {
          "name": "stderr",
          "output_type": "stream",
          "text": [
            "WARNING:tensorflow:Early stopping conditioned on metric `mean_squared_error` which is not available. Available metrics are: loss,accuracy\n"
          ]
        },
        {
          "name": "stdout",
          "output_type": "stream",
          "text": [
            "25000/25000 [==============================] - 76s 3ms/step - loss: 637.5058 - accuracy: 0.0000e+00\n",
            "Epoch 10/15\n",
            "25000/25000 [==============================] - ETA: 0s - loss: 636.2704 - accuracy: 0.0000e+00"
          ]
        },
        {
          "name": "stderr",
          "output_type": "stream",
          "text": [
            "WARNING:tensorflow:Early stopping conditioned on metric `mean_squared_error` which is not available. Available metrics are: loss,accuracy\n"
          ]
        },
        {
          "name": "stdout",
          "output_type": "stream",
          "text": [
            "25000/25000 [==============================] - 72s 3ms/step - loss: 636.2704 - accuracy: 0.0000e+00\n",
            "Epoch 11/15\n",
            "24989/25000 [============================>.] - ETA: 0s - loss: 631.0081 - accuracy: 0.0000e+00"
          ]
        },
        {
          "name": "stderr",
          "output_type": "stream",
          "text": [
            "WARNING:tensorflow:Early stopping conditioned on metric `mean_squared_error` which is not available. Available metrics are: loss,accuracy\n"
          ]
        },
        {
          "name": "stdout",
          "output_type": "stream",
          "text": [
            "25000/25000 [==============================] - 74s 3ms/step - loss: 631.0329 - accuracy: 0.0000e+00\n",
            "Epoch 12/15\n",
            "24996/25000 [============================>.] - ETA: 0s - loss: 628.4572 - accuracy: 0.0000e+00"
          ]
        },
        {
          "name": "stderr",
          "output_type": "stream",
          "text": [
            "WARNING:tensorflow:Early stopping conditioned on metric `mean_squared_error` which is not available. Available metrics are: loss,accuracy\n"
          ]
        },
        {
          "name": "stdout",
          "output_type": "stream",
          "text": [
            "25000/25000 [==============================] - 76s 3ms/step - loss: 628.4480 - accuracy: 0.0000e+00\n",
            "Epoch 13/15\n",
            "24991/25000 [============================>.] - ETA: 0s - loss: 624.6660 - accuracy: 0.0000e+00"
          ]
        },
        {
          "name": "stderr",
          "output_type": "stream",
          "text": [
            "WARNING:tensorflow:Early stopping conditioned on metric `mean_squared_error` which is not available. Available metrics are: loss,accuracy\n"
          ]
        },
        {
          "name": "stdout",
          "output_type": "stream",
          "text": [
            "25000/25000 [==============================] - 74s 3ms/step - loss: 624.7162 - accuracy: 0.0000e+00\n",
            "Epoch 14/15\n",
            "24983/25000 [============================>.] - ETA: 0s - loss: 616.2395 - accuracy: 0.0000e+00"
          ]
        },
        {
          "name": "stderr",
          "output_type": "stream",
          "text": [
            "WARNING:tensorflow:Early stopping conditioned on metric `mean_squared_error` which is not available. Available metrics are: loss,accuracy\n"
          ]
        },
        {
          "name": "stdout",
          "output_type": "stream",
          "text": [
            "25000/25000 [==============================] - 73s 3ms/step - loss: 616.2586 - accuracy: 0.0000e+00\n",
            "Epoch 15/15\n",
            "24997/25000 [============================>.] - ETA: 0s - loss: 603.2796 - accuracy: 0.0000e+00"
          ]
        },
        {
          "name": "stderr",
          "output_type": "stream",
          "text": [
            "WARNING:tensorflow:Early stopping conditioned on metric `mean_squared_error` which is not available. Available metrics are: loss,accuracy\n"
          ]
        },
        {
          "name": "stdout",
          "output_type": "stream",
          "text": [
            "25000/25000 [==============================] - 74s 3ms/step - loss: 603.2607 - accuracy: 0.0000e+00\n",
            "6250/6250 [==============================] - 9s 1ms/step\n"
          ]
        }
      ],
      "source": [
        "# create a regressor object\n",
        "\n",
        "# train the model\n",
        "regressor.fit(X_train, y_train, batch_size = 32, epochs = 15, callbacks = [es])\n",
        "\n",
        "# predict the result\n",
        "y_pred = regressor.predict(X_test)\n",
        "\n",
        "# evaluate the model\n",
        "from sklearn import metrics\n",
        "# rmse"
      ]
    },
    {
      "cell_type": "code",
      "execution_count": null,
      "metadata": {
        "colab": {
          "base_uri": "https://localhost:8080/"
        },
        "id": "cbm6vg5iWPI1",
        "outputId": "6a8d6c8e-f003-49b2-fbeb-25d2526c3143"
      },
      "outputs": [
        {
          "name": "stdout",
          "output_type": "stream",
          "text": [
            "RMSE: 20.638452561282193\n"
          ]
        }
      ],
      "source": [
        "print('RMSE:', np.sqrt(metrics.mean_squared_error(y_test, y_pred)))"
      ]
    },
    {
      "cell_type": "code",
      "execution_count": null,
      "metadata": {
        "colab": {
          "base_uri": "https://localhost:8080/"
        },
        "id": "qAUwB6I_gZRo",
        "outputId": "a77b3be5-d276-4edc-aa87-fdafe6b2816f"
      },
      "outputs": [
        {
          "name": "stdout",
          "output_type": "stream",
          "text": [
            "<tf.Variable 'dense_2/kernel:0' shape=(128, 64) dtype=float32, numpy=\n",
            "array([[-5.5260806e+00, -5.7013124e-01, -6.1893196e+00, ...,\n",
            "        -6.4014358e-04, -7.5050111e+00, -5.9181457e+00],\n",
            "       [ 2.4811324e-01,  1.3421947e-01,  1.3663459e-01, ...,\n",
            "         3.0385661e-01,  1.9642732e-01,  1.6465688e-01],\n",
            "       [-1.6788903e-01,  1.1362920e-01, -9.6190929e-02, ...,\n",
            "         9.8242126e-02, -1.9561081e-01,  6.7202352e-02],\n",
            "       ...,\n",
            "       [ 5.5115563e-03,  3.1833807e-01, -2.0622951e-01, ...,\n",
            "        -2.5032062e-02,  7.3950350e-02,  6.5318331e-02],\n",
            "       [-1.2971170e+01, -5.1890700e-03, -3.8364110e+00, ...,\n",
            "         9.6062161e-03, -1.1218014e+01, -5.5086589e+00],\n",
            "       [-9.4006695e-02,  1.9575921e-01,  6.1961770e-02, ...,\n",
            "         1.3740568e-01,  3.1709874e-01,  6.5459572e-02]], dtype=float32)>\n"
          ]
        }
      ],
      "source": [
        "print(regressor.layers[4].weights[0])"
      ]
    }
  ],
  "metadata": {
    "colab": {
      "provenance": []
    },
    "kernelspec": {
      "display_name": "Python 3.9.12 ('base')",
      "language": "python",
      "name": "python3"
    },
    "language_info": {
      "codemirror_mode": {
        "name": "ipython",
        "version": 3
      },
      "file_extension": ".py",
      "mimetype": "text/x-python",
      "name": "python",
      "nbconvert_exporter": "python",
      "pygments_lexer": "ipython3",
      "version": "3.9.12"
    },
    "vscode": {
      "interpreter": {
        "hash": "56ff932887677198ad4b7382c155b622bf4707b17b9b15e36cab6c7b5313db22"
      }
    }
  },
  "nbformat": 4,
  "nbformat_minor": 0
}