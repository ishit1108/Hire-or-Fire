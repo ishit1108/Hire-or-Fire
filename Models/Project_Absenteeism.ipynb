{
  "nbformat": 4,
  "nbformat_minor": 0,
  "metadata": {
    "colab": {
      "provenance": [],
      "collapsed_sections": [
        "oN9GkTLRrJhh"
      ]
    },
    "kernelspec": {
      "name": "python3",
      "display_name": "Python 3"
    },
    "language_info": {
      "name": "python"
    },
    "gpuClass": "standard",
    "accelerator": "GPU"
  },
  "cells": [
    {
      "cell_type": "markdown",
      "source": [
        "**Gurleen Kaur - 102003138**"
      ],
      "metadata": {
        "id": "MECrWcys2AtP"
      }
    },
    {
      "cell_type": "markdown",
      "source": [
        "**Ishit Choudhary - 102003133**\n"
      ],
      "metadata": {
        "id": "Mz_FrqlbqH0a"
      }
    },
    {
      "cell_type": "markdown",
      "source": [
        "### Importing Libraries and Uploading Document"
      ],
      "metadata": {
        "id": "Istlwf6w28ig"
      }
    },
    {
      "cell_type": "code",
      "execution_count": null,
      "metadata": {
        "id": "zYaFoSKDp-nd"
      },
      "outputs": [],
      "source": [
        "import pandas as pd\n",
        "import numpy as np\n",
        "from google.colab import files\n",
        "import io"
      ]
    },
    {
      "cell_type": "code",
      "source": [
        "# Uploading the dataset\n",
        "uploaded = files.upload()\n",
        "df2 = pd.read_csv(io.BytesIO(uploaded['Absenteeism.csv']))"
      ],
      "metadata": {
        "colab": {
          "base_uri": "https://localhost:8080/",
          "height": 73
        },
        "id": "nME7KC7EqUiK",
        "outputId": "680bec2f-e08e-4214-8562-67fb31fc4f88"
      },
      "execution_count": null,
      "outputs": [
        {
          "output_type": "display_data",
          "data": {
            "text/plain": [
              "<IPython.core.display.HTML object>"
            ],
            "text/html": [
              "\n",
              "     <input type=\"file\" id=\"files-6dbd72ff-e130-4866-9499-c1b57bd3c05e\" name=\"files[]\" multiple disabled\n",
              "        style=\"border:none\" />\n",
              "     <output id=\"result-6dbd72ff-e130-4866-9499-c1b57bd3c05e\">\n",
              "      Upload widget is only available when the cell has been executed in the\n",
              "      current browser session. Please rerun this cell to enable.\n",
              "      </output>\n",
              "      <script>// Copyright 2017 Google LLC\n",
              "//\n",
              "// Licensed under the Apache License, Version 2.0 (the \"License\");\n",
              "// you may not use this file except in compliance with the License.\n",
              "// You may obtain a copy of the License at\n",
              "//\n",
              "//      http://www.apache.org/licenses/LICENSE-2.0\n",
              "//\n",
              "// Unless required by applicable law or agreed to in writing, software\n",
              "// distributed under the License is distributed on an \"AS IS\" BASIS,\n",
              "// WITHOUT WARRANTIES OR CONDITIONS OF ANY KIND, either express or implied.\n",
              "// See the License for the specific language governing permissions and\n",
              "// limitations under the License.\n",
              "\n",
              "/**\n",
              " * @fileoverview Helpers for google.colab Python module.\n",
              " */\n",
              "(function(scope) {\n",
              "function span(text, styleAttributes = {}) {\n",
              "  const element = document.createElement('span');\n",
              "  element.textContent = text;\n",
              "  for (const key of Object.keys(styleAttributes)) {\n",
              "    element.style[key] = styleAttributes[key];\n",
              "  }\n",
              "  return element;\n",
              "}\n",
              "\n",
              "// Max number of bytes which will be uploaded at a time.\n",
              "const MAX_PAYLOAD_SIZE = 100 * 1024;\n",
              "\n",
              "function _uploadFiles(inputId, outputId) {\n",
              "  const steps = uploadFilesStep(inputId, outputId);\n",
              "  const outputElement = document.getElementById(outputId);\n",
              "  // Cache steps on the outputElement to make it available for the next call\n",
              "  // to uploadFilesContinue from Python.\n",
              "  outputElement.steps = steps;\n",
              "\n",
              "  return _uploadFilesContinue(outputId);\n",
              "}\n",
              "\n",
              "// This is roughly an async generator (not supported in the browser yet),\n",
              "// where there are multiple asynchronous steps and the Python side is going\n",
              "// to poll for completion of each step.\n",
              "// This uses a Promise to block the python side on completion of each step,\n",
              "// then passes the result of the previous step as the input to the next step.\n",
              "function _uploadFilesContinue(outputId) {\n",
              "  const outputElement = document.getElementById(outputId);\n",
              "  const steps = outputElement.steps;\n",
              "\n",
              "  const next = steps.next(outputElement.lastPromiseValue);\n",
              "  return Promise.resolve(next.value.promise).then((value) => {\n",
              "    // Cache the last promise value to make it available to the next\n",
              "    // step of the generator.\n",
              "    outputElement.lastPromiseValue = value;\n",
              "    return next.value.response;\n",
              "  });\n",
              "}\n",
              "\n",
              "/**\n",
              " * Generator function which is called between each async step of the upload\n",
              " * process.\n",
              " * @param {string} inputId Element ID of the input file picker element.\n",
              " * @param {string} outputId Element ID of the output display.\n",
              " * @return {!Iterable<!Object>} Iterable of next steps.\n",
              " */\n",
              "function* uploadFilesStep(inputId, outputId) {\n",
              "  const inputElement = document.getElementById(inputId);\n",
              "  inputElement.disabled = false;\n",
              "\n",
              "  const outputElement = document.getElementById(outputId);\n",
              "  outputElement.innerHTML = '';\n",
              "\n",
              "  const pickedPromise = new Promise((resolve) => {\n",
              "    inputElement.addEventListener('change', (e) => {\n",
              "      resolve(e.target.files);\n",
              "    });\n",
              "  });\n",
              "\n",
              "  const cancel = document.createElement('button');\n",
              "  inputElement.parentElement.appendChild(cancel);\n",
              "  cancel.textContent = 'Cancel upload';\n",
              "  const cancelPromise = new Promise((resolve) => {\n",
              "    cancel.onclick = () => {\n",
              "      resolve(null);\n",
              "    };\n",
              "  });\n",
              "\n",
              "  // Wait for the user to pick the files.\n",
              "  const files = yield {\n",
              "    promise: Promise.race([pickedPromise, cancelPromise]),\n",
              "    response: {\n",
              "      action: 'starting',\n",
              "    }\n",
              "  };\n",
              "\n",
              "  cancel.remove();\n",
              "\n",
              "  // Disable the input element since further picks are not allowed.\n",
              "  inputElement.disabled = true;\n",
              "\n",
              "  if (!files) {\n",
              "    return {\n",
              "      response: {\n",
              "        action: 'complete',\n",
              "      }\n",
              "    };\n",
              "  }\n",
              "\n",
              "  for (const file of files) {\n",
              "    const li = document.createElement('li');\n",
              "    li.append(span(file.name, {fontWeight: 'bold'}));\n",
              "    li.append(span(\n",
              "        `(${file.type || 'n/a'}) - ${file.size} bytes, ` +\n",
              "        `last modified: ${\n",
              "            file.lastModifiedDate ? file.lastModifiedDate.toLocaleDateString() :\n",
              "                                    'n/a'} - `));\n",
              "    const percent = span('0% done');\n",
              "    li.appendChild(percent);\n",
              "\n",
              "    outputElement.appendChild(li);\n",
              "\n",
              "    const fileDataPromise = new Promise((resolve) => {\n",
              "      const reader = new FileReader();\n",
              "      reader.onload = (e) => {\n",
              "        resolve(e.target.result);\n",
              "      };\n",
              "      reader.readAsArrayBuffer(file);\n",
              "    });\n",
              "    // Wait for the data to be ready.\n",
              "    let fileData = yield {\n",
              "      promise: fileDataPromise,\n",
              "      response: {\n",
              "        action: 'continue',\n",
              "      }\n",
              "    };\n",
              "\n",
              "    // Use a chunked sending to avoid message size limits. See b/62115660.\n",
              "    let position = 0;\n",
              "    do {\n",
              "      const length = Math.min(fileData.byteLength - position, MAX_PAYLOAD_SIZE);\n",
              "      const chunk = new Uint8Array(fileData, position, length);\n",
              "      position += length;\n",
              "\n",
              "      const base64 = btoa(String.fromCharCode.apply(null, chunk));\n",
              "      yield {\n",
              "        response: {\n",
              "          action: 'append',\n",
              "          file: file.name,\n",
              "          data: base64,\n",
              "        },\n",
              "      };\n",
              "\n",
              "      let percentDone = fileData.byteLength === 0 ?\n",
              "          100 :\n",
              "          Math.round((position / fileData.byteLength) * 100);\n",
              "      percent.textContent = `${percentDone}% done`;\n",
              "\n",
              "    } while (position < fileData.byteLength);\n",
              "  }\n",
              "\n",
              "  // All done.\n",
              "  yield {\n",
              "    response: {\n",
              "      action: 'complete',\n",
              "    }\n",
              "  };\n",
              "}\n",
              "\n",
              "scope.google = scope.google || {};\n",
              "scope.google.colab = scope.google.colab || {};\n",
              "scope.google.colab._files = {\n",
              "  _uploadFiles,\n",
              "  _uploadFilesContinue,\n",
              "};\n",
              "})(self);\n",
              "</script> "
            ]
          },
          "metadata": {}
        },
        {
          "output_type": "stream",
          "name": "stdout",
          "text": [
            "Saving Absenteeism.csv to Absenteeism.csv\n"
          ]
        }
      ]
    },
    {
      "cell_type": "code",
      "source": [
        "# Checking the dataset\n",
        "df2.head()"
      ],
      "metadata": {
        "colab": {
          "base_uri": "https://localhost:8080/",
          "height": 322
        },
        "id": "LHaKR-Z5rPP3",
        "outputId": "f368b1ea-6e31-4dc0-b93c-6191c903165f"
      },
      "execution_count": null,
      "outputs": [
        {
          "output_type": "execute_result",
          "data": {
            "text/plain": [
              "   Reason for absence  Month of absence  Day of the week  Seasons  \\\n",
              "0                  26                 7                3        1   \n",
              "1                   0                 7                3        1   \n",
              "2                  23                 7                4        1   \n",
              "3                   7                 7                5        1   \n",
              "4                  23                 7                5        1   \n",
              "\n",
              "   Transportation expense  Distance from Residence to Work  Service time  Age  \\\n",
              "0                     289                               36            13   33   \n",
              "1                     118                               13            18   50   \n",
              "2                     179                               51            18   38   \n",
              "3                     279                                5            14   39   \n",
              "4                     289                               36            13   33   \n",
              "\n",
              "   Work load Average/day   Hit target  Disciplinary failure  Education  Son  \\\n",
              "0                 239.554          97                     0          1    2   \n",
              "1                 239.554          97                     1          1    1   \n",
              "2                 239.554          97                     0          1    0   \n",
              "3                 239.554          97                     0          1    2   \n",
              "4                 239.554          97                     0          1    2   \n",
              "\n",
              "   Social drinker  Social smoker  Pet  Weight  Height  Body mass index  \\\n",
              "0               1              0    1      90     172               30   \n",
              "1               1              0    0      98     178               31   \n",
              "2               1              0    0      89     170               31   \n",
              "3               1              1    0      68     168               24   \n",
              "4               1              0    1      90     172               30   \n",
              "\n",
              "   Absenteeism time in hours  \n",
              "0                          4  \n",
              "1                          0  \n",
              "2                          2  \n",
              "3                          4  \n",
              "4                          2  "
            ],
            "text/html": [
              "\n",
              "  <div id=\"df-52c87f94-8dd4-4444-b5b7-9024ca5e5605\">\n",
              "    <div class=\"colab-df-container\">\n",
              "      <div>\n",
              "<style scoped>\n",
              "    .dataframe tbody tr th:only-of-type {\n",
              "        vertical-align: middle;\n",
              "    }\n",
              "\n",
              "    .dataframe tbody tr th {\n",
              "        vertical-align: top;\n",
              "    }\n",
              "\n",
              "    .dataframe thead th {\n",
              "        text-align: right;\n",
              "    }\n",
              "</style>\n",
              "<table border=\"1\" class=\"dataframe\">\n",
              "  <thead>\n",
              "    <tr style=\"text-align: right;\">\n",
              "      <th></th>\n",
              "      <th>Reason for absence</th>\n",
              "      <th>Month of absence</th>\n",
              "      <th>Day of the week</th>\n",
              "      <th>Seasons</th>\n",
              "      <th>Transportation expense</th>\n",
              "      <th>Distance from Residence to Work</th>\n",
              "      <th>Service time</th>\n",
              "      <th>Age</th>\n",
              "      <th>Work load Average/day</th>\n",
              "      <th>Hit target</th>\n",
              "      <th>Disciplinary failure</th>\n",
              "      <th>Education</th>\n",
              "      <th>Son</th>\n",
              "      <th>Social drinker</th>\n",
              "      <th>Social smoker</th>\n",
              "      <th>Pet</th>\n",
              "      <th>Weight</th>\n",
              "      <th>Height</th>\n",
              "      <th>Body mass index</th>\n",
              "      <th>Absenteeism time in hours</th>\n",
              "    </tr>\n",
              "  </thead>\n",
              "  <tbody>\n",
              "    <tr>\n",
              "      <th>0</th>\n",
              "      <td>26</td>\n",
              "      <td>7</td>\n",
              "      <td>3</td>\n",
              "      <td>1</td>\n",
              "      <td>289</td>\n",
              "      <td>36</td>\n",
              "      <td>13</td>\n",
              "      <td>33</td>\n",
              "      <td>239.554</td>\n",
              "      <td>97</td>\n",
              "      <td>0</td>\n",
              "      <td>1</td>\n",
              "      <td>2</td>\n",
              "      <td>1</td>\n",
              "      <td>0</td>\n",
              "      <td>1</td>\n",
              "      <td>90</td>\n",
              "      <td>172</td>\n",
              "      <td>30</td>\n",
              "      <td>4</td>\n",
              "    </tr>\n",
              "    <tr>\n",
              "      <th>1</th>\n",
              "      <td>0</td>\n",
              "      <td>7</td>\n",
              "      <td>3</td>\n",
              "      <td>1</td>\n",
              "      <td>118</td>\n",
              "      <td>13</td>\n",
              "      <td>18</td>\n",
              "      <td>50</td>\n",
              "      <td>239.554</td>\n",
              "      <td>97</td>\n",
              "      <td>1</td>\n",
              "      <td>1</td>\n",
              "      <td>1</td>\n",
              "      <td>1</td>\n",
              "      <td>0</td>\n",
              "      <td>0</td>\n",
              "      <td>98</td>\n",
              "      <td>178</td>\n",
              "      <td>31</td>\n",
              "      <td>0</td>\n",
              "    </tr>\n",
              "    <tr>\n",
              "      <th>2</th>\n",
              "      <td>23</td>\n",
              "      <td>7</td>\n",
              "      <td>4</td>\n",
              "      <td>1</td>\n",
              "      <td>179</td>\n",
              "      <td>51</td>\n",
              "      <td>18</td>\n",
              "      <td>38</td>\n",
              "      <td>239.554</td>\n",
              "      <td>97</td>\n",
              "      <td>0</td>\n",
              "      <td>1</td>\n",
              "      <td>0</td>\n",
              "      <td>1</td>\n",
              "      <td>0</td>\n",
              "      <td>0</td>\n",
              "      <td>89</td>\n",
              "      <td>170</td>\n",
              "      <td>31</td>\n",
              "      <td>2</td>\n",
              "    </tr>\n",
              "    <tr>\n",
              "      <th>3</th>\n",
              "      <td>7</td>\n",
              "      <td>7</td>\n",
              "      <td>5</td>\n",
              "      <td>1</td>\n",
              "      <td>279</td>\n",
              "      <td>5</td>\n",
              "      <td>14</td>\n",
              "      <td>39</td>\n",
              "      <td>239.554</td>\n",
              "      <td>97</td>\n",
              "      <td>0</td>\n",
              "      <td>1</td>\n",
              "      <td>2</td>\n",
              "      <td>1</td>\n",
              "      <td>1</td>\n",
              "      <td>0</td>\n",
              "      <td>68</td>\n",
              "      <td>168</td>\n",
              "      <td>24</td>\n",
              "      <td>4</td>\n",
              "    </tr>\n",
              "    <tr>\n",
              "      <th>4</th>\n",
              "      <td>23</td>\n",
              "      <td>7</td>\n",
              "      <td>5</td>\n",
              "      <td>1</td>\n",
              "      <td>289</td>\n",
              "      <td>36</td>\n",
              "      <td>13</td>\n",
              "      <td>33</td>\n",
              "      <td>239.554</td>\n",
              "      <td>97</td>\n",
              "      <td>0</td>\n",
              "      <td>1</td>\n",
              "      <td>2</td>\n",
              "      <td>1</td>\n",
              "      <td>0</td>\n",
              "      <td>1</td>\n",
              "      <td>90</td>\n",
              "      <td>172</td>\n",
              "      <td>30</td>\n",
              "      <td>2</td>\n",
              "    </tr>\n",
              "  </tbody>\n",
              "</table>\n",
              "</div>\n",
              "      <button class=\"colab-df-convert\" onclick=\"convertToInteractive('df-52c87f94-8dd4-4444-b5b7-9024ca5e5605')\"\n",
              "              title=\"Convert this dataframe to an interactive table.\"\n",
              "              style=\"display:none;\">\n",
              "        \n",
              "  <svg xmlns=\"http://www.w3.org/2000/svg\" height=\"24px\"viewBox=\"0 0 24 24\"\n",
              "       width=\"24px\">\n",
              "    <path d=\"M0 0h24v24H0V0z\" fill=\"none\"/>\n",
              "    <path d=\"M18.56 5.44l.94 2.06.94-2.06 2.06-.94-2.06-.94-.94-2.06-.94 2.06-2.06.94zm-11 1L8.5 8.5l.94-2.06 2.06-.94-2.06-.94L8.5 2.5l-.94 2.06-2.06.94zm10 10l.94 2.06.94-2.06 2.06-.94-2.06-.94-.94-2.06-.94 2.06-2.06.94z\"/><path d=\"M17.41 7.96l-1.37-1.37c-.4-.4-.92-.59-1.43-.59-.52 0-1.04.2-1.43.59L10.3 9.45l-7.72 7.72c-.78.78-.78 2.05 0 2.83L4 21.41c.39.39.9.59 1.41.59.51 0 1.02-.2 1.41-.59l7.78-7.78 2.81-2.81c.8-.78.8-2.07 0-2.86zM5.41 20L4 18.59l7.72-7.72 1.47 1.35L5.41 20z\"/>\n",
              "  </svg>\n",
              "      </button>\n",
              "      \n",
              "  <style>\n",
              "    .colab-df-container {\n",
              "      display:flex;\n",
              "      flex-wrap:wrap;\n",
              "      gap: 12px;\n",
              "    }\n",
              "\n",
              "    .colab-df-convert {\n",
              "      background-color: #E8F0FE;\n",
              "      border: none;\n",
              "      border-radius: 50%;\n",
              "      cursor: pointer;\n",
              "      display: none;\n",
              "      fill: #1967D2;\n",
              "      height: 32px;\n",
              "      padding: 0 0 0 0;\n",
              "      width: 32px;\n",
              "    }\n",
              "\n",
              "    .colab-df-convert:hover {\n",
              "      background-color: #E2EBFA;\n",
              "      box-shadow: 0px 1px 2px rgba(60, 64, 67, 0.3), 0px 1px 3px 1px rgba(60, 64, 67, 0.15);\n",
              "      fill: #174EA6;\n",
              "    }\n",
              "\n",
              "    [theme=dark] .colab-df-convert {\n",
              "      background-color: #3B4455;\n",
              "      fill: #D2E3FC;\n",
              "    }\n",
              "\n",
              "    [theme=dark] .colab-df-convert:hover {\n",
              "      background-color: #434B5C;\n",
              "      box-shadow: 0px 1px 3px 1px rgba(0, 0, 0, 0.15);\n",
              "      filter: drop-shadow(0px 1px 2px rgba(0, 0, 0, 0.3));\n",
              "      fill: #FFFFFF;\n",
              "    }\n",
              "  </style>\n",
              "\n",
              "      <script>\n",
              "        const buttonEl =\n",
              "          document.querySelector('#df-52c87f94-8dd4-4444-b5b7-9024ca5e5605 button.colab-df-convert');\n",
              "        buttonEl.style.display =\n",
              "          google.colab.kernel.accessAllowed ? 'block' : 'none';\n",
              "\n",
              "        async function convertToInteractive(key) {\n",
              "          const element = document.querySelector('#df-52c87f94-8dd4-4444-b5b7-9024ca5e5605');\n",
              "          const dataTable =\n",
              "            await google.colab.kernel.invokeFunction('convertToInteractive',\n",
              "                                                     [key], {});\n",
              "          if (!dataTable) return;\n",
              "\n",
              "          const docLinkHtml = 'Like what you see? Visit the ' +\n",
              "            '<a target=\"_blank\" href=https://colab.research.google.com/notebooks/data_table.ipynb>data table notebook</a>'\n",
              "            + ' to learn more about interactive tables.';\n",
              "          element.innerHTML = '';\n",
              "          dataTable['output_type'] = 'display_data';\n",
              "          await google.colab.output.renderOutput(dataTable, element);\n",
              "          const docLink = document.createElement('div');\n",
              "          docLink.innerHTML = docLinkHtml;\n",
              "          element.appendChild(docLink);\n",
              "        }\n",
              "      </script>\n",
              "    </div>\n",
              "  </div>\n",
              "  "
            ]
          },
          "metadata": {},
          "execution_count": 3
        }
      ]
    },
    {
      "cell_type": "code",
      "source": [
        "# Checking information about all attributes\n",
        "df2.info()"
      ],
      "metadata": {
        "colab": {
          "base_uri": "https://localhost:8080/"
        },
        "id": "5ImlNuyUshFr",
        "outputId": "c63bcd94-505b-496f-d07b-d6c8f6bc42c2"
      },
      "execution_count": null,
      "outputs": [
        {
          "output_type": "stream",
          "name": "stdout",
          "text": [
            "<class 'pandas.core.frame.DataFrame'>\n",
            "RangeIndex: 740 entries, 0 to 739\n",
            "Data columns (total 20 columns):\n",
            " #   Column                           Non-Null Count  Dtype  \n",
            "---  ------                           --------------  -----  \n",
            " 0   Reason for absence               740 non-null    int64  \n",
            " 1   Month of absence                 740 non-null    int64  \n",
            " 2   Day of the week                  740 non-null    int64  \n",
            " 3   Seasons                          740 non-null    int64  \n",
            " 4   Transportation expense           740 non-null    int64  \n",
            " 5   Distance from Residence to Work  740 non-null    int64  \n",
            " 6   Service time                     740 non-null    int64  \n",
            " 7   Age                              740 non-null    int64  \n",
            " 8   Work load Average/day            740 non-null    float64\n",
            " 9   Hit target                       740 non-null    int64  \n",
            " 10  Disciplinary failure             740 non-null    int64  \n",
            " 11  Education                        740 non-null    int64  \n",
            " 12  Son                              740 non-null    int64  \n",
            " 13  Social drinker                   740 non-null    int64  \n",
            " 14  Social smoker                    740 non-null    int64  \n",
            " 15  Pet                              740 non-null    int64  \n",
            " 16  Weight                           740 non-null    int64  \n",
            " 17  Height                           740 non-null    int64  \n",
            " 18  Body mass index                  740 non-null    int64  \n",
            " 19  Absenteeism time in hours        740 non-null    int64  \n",
            "dtypes: float64(1), int64(19)\n",
            "memory usage: 115.8 KB\n"
          ]
        }
      ]
    },
    {
      "cell_type": "markdown",
      "source": [
        "#Preprocessing"
      ],
      "metadata": {
        "id": "4Qf7CCBEu0Cb"
      }
    },
    {
      "cell_type": "code",
      "source": [
        "# Checking for Null values\n",
        "import missingno as msn\n",
        "msn.bar(df2.iloc[:,:])"
      ],
      "metadata": {
        "colab": {
          "base_uri": "https://localhost:8080/",
          "height": 641
        },
        "id": "zp-hJoNkxveF",
        "outputId": "640e9420-1dc8-43a0-ebd9-a33ed607481e"
      },
      "execution_count": null,
      "outputs": [
        {
          "output_type": "execute_result",
          "data": {
            "text/plain": [
              "<matplotlib.axes._subplots.AxesSubplot at 0x7fda428a5410>"
            ]
          },
          "metadata": {},
          "execution_count": 5
        },
        {
          "output_type": "display_data",
          "data": {
            "text/plain": [
              "<Figure size 1800x720 with 3 Axes>"
            ],
            "image/png": "[encoded data removed]"
          },
          "metadata": {
            "needs_background": "light"
          }
        }
      ]
    },
    {
      "cell_type": "code",
      "source": [
        "# Checking for Class balancing\n",
        "import seaborn as sns\n",
        "sns.countplot(y=df2.iloc[:,-1],data=df2)"
      ],
      "metadata": {
        "colab": {
          "base_uri": "https://localhost:8080/",
          "height": 296
        },
        "id": "YixROxy_x58g",
        "outputId": "5f580b59-f2cb-4308-8957-d883b9d57956"
      },
      "execution_count": null,
      "outputs": [
        {
          "output_type": "execute_result",
          "data": {
            "text/plain": [
              "<matplotlib.axes._subplots.AxesSubplot at 0x7fda3e1810d0>"
            ]
          },
          "metadata": {},
          "execution_count": 6
        },
        {
          "output_type": "display_data",
          "data": {
            "text/plain": [
              "<Figure size 432x288 with 1 Axes>"
            ],
            "image/png": "[encoded data removed]"
          },
          "metadata": {
            "needs_background": "light"
          }
        }
      ]
    },
    {
      "cell_type": "code",
      "source": [
        "# Checking correlation between input features\n",
        "import seaborn as sns\n",
        "sns.heatmap(df2.iloc[:,:-1].corr(),annot=True)"
      ],
      "metadata": {
        "colab": {
          "base_uri": "https://localhost:8080/",
          "height": 442
        },
        "id": "NGD69bA8yFGy",
        "outputId": "55321b1c-05c3-43a2-a8af-53e940b539a3"
      },
      "execution_count": null,
      "outputs": [
        {
          "output_type": "execute_result",
          "data": {
            "text/plain": [
              "<matplotlib.axes._subplots.AxesSubplot at 0x7fda3e1a94d0>"
            ]
          },
          "metadata": {},
          "execution_count": 7
        },
        {
          "output_type": "display_data",
          "data": {
            "text/plain": [
              "<Figure size 432x288 with 2 Axes>"
            ],
            "image/png": "[encoded data removed]"
          },
          "metadata": {
            "needs_background": "light"
          }
        }
      ]
    },
    {
      "cell_type": "code",
      "source": [
        "# Scaling the input data\n",
        "from sklearn.preprocessing import StandardScaler\n",
        "X=df2.iloc[:,:-1]\n",
        "Y=df2.iloc[:,-1]\n",
        "scaler=StandardScaler()\n",
        "X_scaled=scaler.fit_transform(X)\n",
        "X_scaled=np.insert(X_scaled,0,values=1,axis=1)\n",
        "X.head()"
      ],
      "metadata": {
        "colab": {
          "base_uri": "https://localhost:8080/",
          "height": 322
        },
        "id": "TFhKP9DkvMDI",
        "outputId": "a72ab63e-152b-4bc0-93ba-37d45f9915e4"
      },
      "execution_count": null,
      "outputs": [
        {
          "output_type": "execute_result",
          "data": {
            "text/plain": [
              "   Reason for absence  Month of absence  Day of the week  Seasons  \\\n",
              "0                  26                 7                3        1   \n",
              "1                   0                 7                3        1   \n",
              "2                  23                 7                4        1   \n",
              "3                   7                 7                5        1   \n",
              "4                  23                 7                5        1   \n",
              "\n",
              "   Transportation expense  Distance from Residence to Work  Service time  Age  \\\n",
              "0                     289                               36            13   33   \n",
              "1                     118                               13            18   50   \n",
              "2                     179                               51            18   38   \n",
              "3                     279                                5            14   39   \n",
              "4                     289                               36            13   33   \n",
              "\n",
              "   Work load Average/day   Hit target  Disciplinary failure  Education  Son  \\\n",
              "0                 239.554          97                     0          1    2   \n",
              "1                 239.554          97                     1          1    1   \n",
              "2                 239.554          97                     0          1    0   \n",
              "3                 239.554          97                     0          1    2   \n",
              "4                 239.554          97                     0          1    2   \n",
              "\n",
              "   Social drinker  Social smoker  Pet  Weight  Height  Body mass index  \n",
              "0               1              0    1      90     172               30  \n",
              "1               1              0    0      98     178               31  \n",
              "2               1              0    0      89     170               31  \n",
              "3               1              1    0      68     168               24  \n",
              "4               1              0    1      90     172               30  "
            ],
            "text/html": [
              "\n",
              "  <div id=\"df-d96f6bb2-585c-454a-9c9c-b8661db2c9a3\">\n",
              "    <div class=\"colab-df-container\">\n",
              "      <div>\n",
              "<style scoped>\n",
              "    .dataframe tbody tr th:only-of-type {\n",
              "        vertical-align: middle;\n",
              "    }\n",
              "\n",
              "    .dataframe tbody tr th {\n",
              "        vertical-align: top;\n",
              "    }\n",
              "\n",
              "    .dataframe thead th {\n",
              "        text-align: right;\n",
              "    }\n",
              "</style>\n",
              "<table border=\"1\" class=\"dataframe\">\n",
              "  <thead>\n",
              "    <tr style=\"text-align: right;\">\n",
              "      <th></th>\n",
              "      <th>Reason for absence</th>\n",
              "      <th>Month of absence</th>\n",
              "      <th>Day of the week</th>\n",
              "      <th>Seasons</th>\n",
              "      <th>Transportation expense</th>\n",
              "      <th>Distance from Residence to Work</th>\n",
              "      <th>Service time</th>\n",
              "      <th>Age</th>\n",
              "      <th>Work load Average/day</th>\n",
              "      <th>Hit target</th>\n",
              "      <th>Disciplinary failure</th>\n",
              "      <th>Education</th>\n",
              "      <th>Son</th>\n",
              "      <th>Social drinker</th>\n",
              "      <th>Social smoker</th>\n",
              "      <th>Pet</th>\n",
              "      <th>Weight</th>\n",
              "      <th>Height</th>\n",
              "      <th>Body mass index</th>\n",
              "    </tr>\n",
              "  </thead>\n",
              "  <tbody>\n",
              "    <tr>\n",
              "      <th>0</th>\n",
              "      <td>26</td>\n",
              "      <td>7</td>\n",
              "      <td>3</td>\n",
              "      <td>1</td>\n",
              "      <td>289</td>\n",
              "      <td>36</td>\n",
              "      <td>13</td>\n",
              "      <td>33</td>\n",
              "      <td>239.554</td>\n",
              "      <td>97</td>\n",
              "      <td>0</td>\n",
              "      <td>1</td>\n",
              "      <td>2</td>\n",
              "      <td>1</td>\n",
              "      <td>0</td>\n",
              "      <td>1</td>\n",
              "      <td>90</td>\n",
              "      <td>172</td>\n",
              "      <td>30</td>\n",
              "    </tr>\n",
              "    <tr>\n",
              "      <th>1</th>\n",
              "      <td>0</td>\n",
              "      <td>7</td>\n",
              "      <td>3</td>\n",
              "      <td>1</td>\n",
              "      <td>118</td>\n",
              "      <td>13</td>\n",
              "      <td>18</td>\n",
              "      <td>50</td>\n",
              "      <td>239.554</td>\n",
              "      <td>97</td>\n",
              "      <td>1</td>\n",
              "      <td>1</td>\n",
              "      <td>1</td>\n",
              "      <td>1</td>\n",
              "      <td>0</td>\n",
              "      <td>0</td>\n",
              "      <td>98</td>\n",
              "      <td>178</td>\n",
              "      <td>31</td>\n",
              "    </tr>\n",
              "    <tr>\n",
              "      <th>2</th>\n",
              "      <td>23</td>\n",
              "      <td>7</td>\n",
              "      <td>4</td>\n",
              "      <td>1</td>\n",
              "      <td>179</td>\n",
              "      <td>51</td>\n",
              "      <td>18</td>\n",
              "      <td>38</td>\n",
              "      <td>239.554</td>\n",
              "      <td>97</td>\n",
              "      <td>0</td>\n",
              "      <td>1</td>\n",
              "      <td>0</td>\n",
              "      <td>1</td>\n",
              "      <td>0</td>\n",
              "      <td>0</td>\n",
              "      <td>89</td>\n",
              "      <td>170</td>\n",
              "      <td>31</td>\n",
              "    </tr>\n",
              "    <tr>\n",
              "      <th>3</th>\n",
              "      <td>7</td>\n",
              "      <td>7</td>\n",
              "      <td>5</td>\n",
              "      <td>1</td>\n",
              "      <td>279</td>\n",
              "      <td>5</td>\n",
              "      <td>14</td>\n",
              "      <td>39</td>\n",
              "      <td>239.554</td>\n",
              "      <td>97</td>\n",
              "      <td>0</td>\n",
              "      <td>1</td>\n",
              "      <td>2</td>\n",
              "      <td>1</td>\n",
              "      <td>1</td>\n",
              "      <td>0</td>\n",
              "      <td>68</td>\n",
              "      <td>168</td>\n",
              "      <td>24</td>\n",
              "    </tr>\n",
              "    <tr>\n",
              "      <th>4</th>\n",
              "      <td>23</td>\n",
              "      <td>7</td>\n",
              "      <td>5</td>\n",
              "      <td>1</td>\n",
              "      <td>289</td>\n",
              "      <td>36</td>\n",
              "      <td>13</td>\n",
              "      <td>33</td>\n",
              "      <td>239.554</td>\n",
              "      <td>97</td>\n",
              "      <td>0</td>\n",
              "      <td>1</td>\n",
              "      <td>2</td>\n",
              "      <td>1</td>\n",
              "      <td>0</td>\n",
              "      <td>1</td>\n",
              "      <td>90</td>\n",
              "      <td>172</td>\n",
              "      <td>30</td>\n",
              "    </tr>\n",
              "  </tbody>\n",
              "</table>\n",
              "</div>\n",
              "      <button class=\"colab-df-convert\" onclick=\"convertToInteractive('df-d96f6bb2-585c-454a-9c9c-b8661db2c9a3')\"\n",
              "              title=\"Convert this dataframe to an interactive table.\"\n",
              "              style=\"display:none;\">\n",
              "        \n",
              "  <svg xmlns=\"http://www.w3.org/2000/svg\" height=\"24px\"viewBox=\"0 0 24 24\"\n",
              "       width=\"24px\">\n",
              "    <path d=\"M0 0h24v24H0V0z\" fill=\"none\"/>\n",
              "    <path d=\"M18.56 5.44l.94 2.06.94-2.06 2.06-.94-2.06-.94-.94-2.06-.94 2.06-2.06.94zm-11 1L8.5 8.5l.94-2.06 2.06-.94-2.06-.94L8.5 2.5l-.94 2.06-2.06.94zm10 10l.94 2.06.94-2.06 2.06-.94-2.06-.94-.94-2.06-.94 2.06-2.06.94z\"/><path d=\"M17.41 7.96l-1.37-1.37c-.4-.4-.92-.59-1.43-.59-.52 0-1.04.2-1.43.59L10.3 9.45l-7.72 7.72c-.78.78-.78 2.05 0 2.83L4 21.41c.39.39.9.59 1.41.59.51 0 1.02-.2 1.41-.59l7.78-7.78 2.81-2.81c.8-.78.8-2.07 0-2.86zM5.41 20L4 18.59l7.72-7.72 1.47 1.35L5.41 20z\"/>\n",
              "  </svg>\n",
              "      </button>\n",
              "      \n",
              "  <style>\n",
              "    .colab-df-container {\n",
              "      display:flex;\n",
              "      flex-wrap:wrap;\n",
              "      gap: 12px;\n",
              "    }\n",
              "\n",
              "    .colab-df-convert {\n",
              "      background-color: #E8F0FE;\n",
              "      border: none;\n",
              "      border-radius: 50%;\n",
              "      cursor: pointer;\n",
              "      display: none;\n",
              "      fill: #1967D2;\n",
              "      height: 32px;\n",
              "      padding: 0 0 0 0;\n",
              "      width: 32px;\n",
              "    }\n",
              "\n",
              "    .colab-df-convert:hover {\n",
              "      background-color: #E2EBFA;\n",
              "      box-shadow: 0px 1px 2px rgba(60, 64, 67, 0.3), 0px 1px 3px 1px rgba(60, 64, 67, 0.15);\n",
              "      fill: #174EA6;\n",
              "    }\n",
              "\n",
              "    [theme=dark] .colab-df-convert {\n",
              "      background-color: #3B4455;\n",
              "      fill: #D2E3FC;\n",
              "    }\n",
              "\n",
              "    [theme=dark] .colab-df-convert:hover {\n",
              "      background-color: #434B5C;\n",
              "      box-shadow: 0px 1px 3px 1px rgba(0, 0, 0, 0.15);\n",
              "      filter: drop-shadow(0px 1px 2px rgba(0, 0, 0, 0.3));\n",
              "      fill: #FFFFFF;\n",
              "    }\n",
              "  </style>\n",
              "\n",
              "      <script>\n",
              "        const buttonEl =\n",
              "          document.querySelector('#df-d96f6bb2-585c-454a-9c9c-b8661db2c9a3 button.colab-df-convert');\n",
              "        buttonEl.style.display =\n",
              "          google.colab.kernel.accessAllowed ? 'block' : 'none';\n",
              "\n",
              "        async function convertToInteractive(key) {\n",
              "          const element = document.querySelector('#df-d96f6bb2-585c-454a-9c9c-b8661db2c9a3');\n",
              "          const dataTable =\n",
              "            await google.colab.kernel.invokeFunction('convertToInteractive',\n",
              "                                                     [key], {});\n",
              "          if (!dataTable) return;\n",
              "\n",
              "          const docLinkHtml = 'Like what you see? Visit the ' +\n",
              "            '<a target=\"_blank\" href=https://colab.research.google.com/notebooks/data_table.ipynb>data table notebook</a>'\n",
              "            + ' to learn more about interactive tables.';\n",
              "          element.innerHTML = '';\n",
              "          dataTable['output_type'] = 'display_data';\n",
              "          await google.colab.output.renderOutput(dataTable, element);\n",
              "          const docLink = document.createElement('div');\n",
              "          docLink.innerHTML = docLinkHtml;\n",
              "          element.appendChild(docLink);\n",
              "        }\n",
              "      </script>\n",
              "    </div>\n",
              "  </div>\n",
              "  "
            ]
          },
          "metadata": {},
          "execution_count": 8
        }
      ]
    },
    {
      "cell_type": "code",
      "source": [
        "X=df2.iloc[:,:-1]\n",
        "Y=df2.iloc[:,-1]\n",
        "X_scaled = X.to_numpy()\n",
        "X_scaled=np.insert(X_scaled,0,values=1,axis=1)\n",
        "print(X_scaled)"
      ],
      "metadata": {
        "colab": {
          "base_uri": "https://localhost:8080/"
        },
        "id": "Z8S9-A-H5QuD",
        "outputId": "628cdadd-3cf6-4d36-8515-a477a6b4d6be"
      },
      "execution_count": null,
      "outputs": [
        {
          "output_type": "stream",
          "name": "stdout",
          "text": [
            "[[  1.  26.   7. ...  90. 172.  30.]\n",
            " [  1.   0.   7. ...  98. 178.  31.]\n",
            " [  1.  23.   7. ...  89. 170.  31.]\n",
            " ...\n",
            " [  1.   0.   0. ...  98. 170.  34.]\n",
            " [  1.   0.   0. ... 100. 170.  35.]\n",
            " [  1.   0.   0. ...  77. 175.  25.]]\n"
          ]
        }
      ]
    },
    {
      "cell_type": "code",
      "source": [
        "# Classifying Absenteeism time in hours as high(2) medium(1) low(0)\n",
        "output = np.array(Y)"
      ],
      "metadata": {
        "id": "aTNRy8m7B39e"
      },
      "execution_count": null,
      "outputs": []
    },
    {
      "cell_type": "code",
      "source": [
        "for i in range(0,740):\n",
        "    if (output[i]>=9):\n",
        "        output[i]=3\n",
        "    elif (output[i]==8):\n",
        "        output[i]=3\n",
        "    elif (output[i]>=3):\n",
        "        output[i]=2\n",
        "    elif (output[i]>=2):\n",
        "        output[i]=1\n",
        "    elif (output[i]>=1):\n",
        "        output[i]=0\n",
        "    else:\n",
        "        output[i]=0"
      ],
      "metadata": {
        "id": "VmEYDLa0CTA0"
      },
      "execution_count": null,
      "outputs": []
    },
    {
      "cell_type": "code",
      "source": [
        "Y2 = pd.DataFrame(output,columns=['absenteeism in hours'])\n",
        "Y2.head()"
      ],
      "metadata": {
        "colab": {
          "base_uri": "https://localhost:8080/",
          "height": 206
        },
        "id": "oeBKR5pYCd3e",
        "outputId": "718f378f-8ce4-43dc-c268-f905882a0995"
      },
      "execution_count": null,
      "outputs": [
        {
          "output_type": "execute_result",
          "data": {
            "text/plain": [
              "   absenteeism in hours\n",
              "0                     2\n",
              "1                     0\n",
              "2                     1\n",
              "3                     2\n",
              "4                     1"
            ],
            "text/html": [
              "\n",
              "  <div id=\"df-865b6fe1-4784-47db-8216-589a8c356f1e\">\n",
              "    <div class=\"colab-df-container\">\n",
              "      <div>\n",
              "<style scoped>\n",
              "    .dataframe tbody tr th:only-of-type {\n",
              "        vertical-align: middle;\n",
              "    }\n",
              "\n",
              "    .dataframe tbody tr th {\n",
              "        vertical-align: top;\n",
              "    }\n",
              "\n",
              "    .dataframe thead th {\n",
              "        text-align: right;\n",
              "    }\n",
              "</style>\n",
              "<table border=\"1\" class=\"dataframe\">\n",
              "  <thead>\n",
              "    <tr style=\"text-align: right;\">\n",
              "      <th></th>\n",
              "      <th>absenteeism in hours</th>\n",
              "    </tr>\n",
              "  </thead>\n",
              "  <tbody>\n",
              "    <tr>\n",
              "      <th>0</th>\n",
              "      <td>2</td>\n",
              "    </tr>\n",
              "    <tr>\n",
              "      <th>1</th>\n",
              "      <td>0</td>\n",
              "    </tr>\n",
              "    <tr>\n",
              "      <th>2</th>\n",
              "      <td>1</td>\n",
              "    </tr>\n",
              "    <tr>\n",
              "      <th>3</th>\n",
              "      <td>2</td>\n",
              "    </tr>\n",
              "    <tr>\n",
              "      <th>4</th>\n",
              "      <td>1</td>\n",
              "    </tr>\n",
              "  </tbody>\n",
              "</table>\n",
              "</div>\n",
              "      <button class=\"colab-df-convert\" onclick=\"convertToInteractive('df-865b6fe1-4784-47db-8216-589a8c356f1e')\"\n",
              "              title=\"Convert this dataframe to an interactive table.\"\n",
              "              style=\"display:none;\">\n",
              "        \n",
              "  <svg xmlns=\"http://www.w3.org/2000/svg\" height=\"24px\"viewBox=\"0 0 24 24\"\n",
              "       width=\"24px\">\n",
              "    <path d=\"M0 0h24v24H0V0z\" fill=\"none\"/>\n",
              "    <path d=\"M18.56 5.44l.94 2.06.94-2.06 2.06-.94-2.06-.94-.94-2.06-.94 2.06-2.06.94zm-11 1L8.5 8.5l.94-2.06 2.06-.94-2.06-.94L8.5 2.5l-.94 2.06-2.06.94zm10 10l.94 2.06.94-2.06 2.06-.94-2.06-.94-.94-2.06-.94 2.06-2.06.94z\"/><path d=\"M17.41 7.96l-1.37-1.37c-.4-.4-.92-.59-1.43-.59-.52 0-1.04.2-1.43.59L10.3 9.45l-7.72 7.72c-.78.78-.78 2.05 0 2.83L4 21.41c.39.39.9.59 1.41.59.51 0 1.02-.2 1.41-.59l7.78-7.78 2.81-2.81c.8-.78.8-2.07 0-2.86zM5.41 20L4 18.59l7.72-7.72 1.47 1.35L5.41 20z\"/>\n",
              "  </svg>\n",
              "      </button>\n",
              "      \n",
              "  <style>\n",
              "    .colab-df-container {\n",
              "      display:flex;\n",
              "      flex-wrap:wrap;\n",
              "      gap: 12px;\n",
              "    }\n",
              "\n",
              "    .colab-df-convert {\n",
              "      background-color: #E8F0FE;\n",
              "      border: none;\n",
              "      border-radius: 50%;\n",
              "      cursor: pointer;\n",
              "      display: none;\n",
              "      fill: #1967D2;\n",
              "      height: 32px;\n",
              "      padding: 0 0 0 0;\n",
              "      width: 32px;\n",
              "    }\n",
              "\n",
              "    .colab-df-convert:hover {\n",
              "      background-color: #E2EBFA;\n",
              "      box-shadow: 0px 1px 2px rgba(60, 64, 67, 0.3), 0px 1px 3px 1px rgba(60, 64, 67, 0.15);\n",
              "      fill: #174EA6;\n",
              "    }\n",
              "\n",
              "    [theme=dark] .colab-df-convert {\n",
              "      background-color: #3B4455;\n",
              "      fill: #D2E3FC;\n",
              "    }\n",
              "\n",
              "    [theme=dark] .colab-df-convert:hover {\n",
              "      background-color: #434B5C;\n",
              "      box-shadow: 0px 1px 3px 1px rgba(0, 0, 0, 0.15);\n",
              "      filter: drop-shadow(0px 1px 2px rgba(0, 0, 0, 0.3));\n",
              "      fill: #FFFFFF;\n",
              "    }\n",
              "  </style>\n",
              "\n",
              "      <script>\n",
              "        const buttonEl =\n",
              "          document.querySelector('#df-865b6fe1-4784-47db-8216-589a8c356f1e button.colab-df-convert');\n",
              "        buttonEl.style.display =\n",
              "          google.colab.kernel.accessAllowed ? 'block' : 'none';\n",
              "\n",
              "        async function convertToInteractive(key) {\n",
              "          const element = document.querySelector('#df-865b6fe1-4784-47db-8216-589a8c356f1e');\n",
              "          const dataTable =\n",
              "            await google.colab.kernel.invokeFunction('convertToInteractive',\n",
              "                                                     [key], {});\n",
              "          if (!dataTable) return;\n",
              "\n",
              "          const docLinkHtml = 'Like what you see? Visit the ' +\n",
              "            '<a target=\"_blank\" href=https://colab.research.google.com/notebooks/data_table.ipynb>data table notebook</a>'\n",
              "            + ' to learn more about interactive tables.';\n",
              "          element.innerHTML = '';\n",
              "          dataTable['output_type'] = 'display_data';\n",
              "          await google.colab.output.renderOutput(dataTable, element);\n",
              "          const docLink = document.createElement('div');\n",
              "          docLink.innerHTML = docLinkHtml;\n",
              "          element.appendChild(docLink);\n",
              "        }\n",
              "      </script>\n",
              "    </div>\n",
              "  </div>\n",
              "  "
            ]
          },
          "metadata": {},
          "execution_count": 12
        }
      ]
    },
    {
      "cell_type": "code",
      "source": [
        "# Checking for Class balancing\n",
        "import seaborn as sns\n",
        "sns.set_theme(style=\"whitegrid\")\n",
        "sns.countplot(x=Y2[\"absenteeism in hours\"])\n",
        "#sns.countplot(Y)"
      ],
      "metadata": {
        "colab": {
          "base_uri": "https://localhost:8080/",
          "height": 302
        },
        "id": "DZzDlrzSCBzw",
        "outputId": "47216dd9-5a68-47cd-9f1a-afcb05b774ca"
      },
      "execution_count": null,
      "outputs": [
        {
          "output_type": "execute_result",
          "data": {
            "text/plain": [
              "<matplotlib.axes._subplots.AxesSubplot at 0x7fda3d4f9150>"
            ]
          },
          "metadata": {},
          "execution_count": 13
        },
        {
          "output_type": "display_data",
          "data": {
            "text/plain": [
              "<Figure size 432x288 with 1 Axes>"
            ],
            "image/png": "[encoded data removed]"
          },
          "metadata": {}
        }
      ]
    },
    {
      "cell_type": "markdown",
      "source": [
        "\n",
        "# Applying Multiple Logistic Regression with Ridge Regularization"
      ],
      "metadata": {
        "id": "b6S37Aysp4aB"
      }
    },
    {
      "cell_type": "code",
      "source": [
        "encoded = pd.get_dummies(Y2, columns = [\"absenteeism in hours\"])\n",
        "print(encoded)"
      ],
      "metadata": {
        "colab": {
          "base_uri": "https://localhost:8080/"
        },
        "id": "Xq8BjyKlITXM",
        "outputId": "4d2d5a02-d7ac-4c76-f335-37f98cc2d0bc"
      },
      "execution_count": null,
      "outputs": [
        {
          "output_type": "stream",
          "name": "stdout",
          "text": [
            "     absenteeism in hours_0  absenteeism in hours_1  absenteeism in hours_2  \\\n",
            "0                         0                       0                       1   \n",
            "1                         1                       0                       0   \n",
            "2                         0                       1                       0   \n",
            "3                         0                       0                       1   \n",
            "4                         0                       1                       0   \n",
            "..                      ...                     ...                     ...   \n",
            "735                       0                       0                       0   \n",
            "736                       0                       0                       1   \n",
            "737                       1                       0                       0   \n",
            "738                       1                       0                       0   \n",
            "739                       1                       0                       0   \n",
            "\n",
            "     absenteeism in hours_3  \n",
            "0                         0  \n",
            "1                         0  \n",
            "2                         0  \n",
            "3                         0  \n",
            "4                         0  \n",
            "..                      ...  \n",
            "735                       1  \n",
            "736                       0  \n",
            "737                       0  \n",
            "738                       0  \n",
            "739                       0  \n",
            "\n",
            "[740 rows x 4 columns]\n"
          ]
        }
      ]
    },
    {
      "cell_type": "code",
      "source": [
        "encoded.head()"
      ],
      "metadata": {
        "colab": {
          "base_uri": "https://localhost:8080/",
          "height": 206
        },
        "id": "fM3YC_52IjD4",
        "outputId": "15525300-ae49-4356-ef01-51a3615dd563"
      },
      "execution_count": null,
      "outputs": [
        {
          "output_type": "execute_result",
          "data": {
            "text/plain": [
              "   absenteeism in hours_0  absenteeism in hours_1  absenteeism in hours_2  \\\n",
              "0                       0                       0                       1   \n",
              "1                       1                       0                       0   \n",
              "2                       0                       1                       0   \n",
              "3                       0                       0                       1   \n",
              "4                       0                       1                       0   \n",
              "\n",
              "   absenteeism in hours_3  \n",
              "0                       0  \n",
              "1                       0  \n",
              "2                       0  \n",
              "3                       0  \n",
              "4                       0  "
            ],
            "text/html": [
              "\n",
              "  <div id=\"df-90f7e58b-28e5-4781-a0f8-b904956a2eb4\">\n",
              "    <div class=\"colab-df-container\">\n",
              "      <div>\n",
              "<style scoped>\n",
              "    .dataframe tbody tr th:only-of-type {\n",
              "        vertical-align: middle;\n",
              "    }\n",
              "\n",
              "    .dataframe tbody tr th {\n",
              "        vertical-align: top;\n",
              "    }\n",
              "\n",
              "    .dataframe thead th {\n",
              "        text-align: right;\n",
              "    }\n",
              "</style>\n",
              "<table border=\"1\" class=\"dataframe\">\n",
              "  <thead>\n",
              "    <tr style=\"text-align: right;\">\n",
              "      <th></th>\n",
              "      <th>absenteeism in hours_0</th>\n",
              "      <th>absenteeism in hours_1</th>\n",
              "      <th>absenteeism in hours_2</th>\n",
              "      <th>absenteeism in hours_3</th>\n",
              "    </tr>\n",
              "  </thead>\n",
              "  <tbody>\n",
              "    <tr>\n",
              "      <th>0</th>\n",
              "      <td>0</td>\n",
              "      <td>0</td>\n",
              "      <td>1</td>\n",
              "      <td>0</td>\n",
              "    </tr>\n",
              "    <tr>\n",
              "      <th>1</th>\n",
              "      <td>1</td>\n",
              "      <td>0</td>\n",
              "      <td>0</td>\n",
              "      <td>0</td>\n",
              "    </tr>\n",
              "    <tr>\n",
              "      <th>2</th>\n",
              "      <td>0</td>\n",
              "      <td>1</td>\n",
              "      <td>0</td>\n",
              "      <td>0</td>\n",
              "    </tr>\n",
              "    <tr>\n",
              "      <th>3</th>\n",
              "      <td>0</td>\n",
              "      <td>0</td>\n",
              "      <td>1</td>\n",
              "      <td>0</td>\n",
              "    </tr>\n",
              "    <tr>\n",
              "      <th>4</th>\n",
              "      <td>0</td>\n",
              "      <td>1</td>\n",
              "      <td>0</td>\n",
              "      <td>0</td>\n",
              "    </tr>\n",
              "  </tbody>\n",
              "</table>\n",
              "</div>\n",
              "      <button class=\"colab-df-convert\" onclick=\"convertToInteractive('df-90f7e58b-28e5-4781-a0f8-b904956a2eb4')\"\n",
              "              title=\"Convert this dataframe to an interactive table.\"\n",
              "              style=\"display:none;\">\n",
              "        \n",
              "  <svg xmlns=\"http://www.w3.org/2000/svg\" height=\"24px\"viewBox=\"0 0 24 24\"\n",
              "       width=\"24px\">\n",
              "    <path d=\"M0 0h24v24H0V0z\" fill=\"none\"/>\n",
              "    <path d=\"M18.56 5.44l.94 2.06.94-2.06 2.06-.94-2.06-.94-.94-2.06-.94 2.06-2.06.94zm-11 1L8.5 8.5l.94-2.06 2.06-.94-2.06-.94L8.5 2.5l-.94 2.06-2.06.94zm10 10l.94 2.06.94-2.06 2.06-.94-2.06-.94-.94-2.06-.94 2.06-2.06.94z\"/><path d=\"M17.41 7.96l-1.37-1.37c-.4-.4-.92-.59-1.43-.59-.52 0-1.04.2-1.43.59L10.3 9.45l-7.72 7.72c-.78.78-.78 2.05 0 2.83L4 21.41c.39.39.9.59 1.41.59.51 0 1.02-.2 1.41-.59l7.78-7.78 2.81-2.81c.8-.78.8-2.07 0-2.86zM5.41 20L4 18.59l7.72-7.72 1.47 1.35L5.41 20z\"/>\n",
              "  </svg>\n",
              "      </button>\n",
              "      \n",
              "  <style>\n",
              "    .colab-df-container {\n",
              "      display:flex;\n",
              "      flex-wrap:wrap;\n",
              "      gap: 12px;\n",
              "    }\n",
              "\n",
              "    .colab-df-convert {\n",
              "      background-color: #E8F0FE;\n",
              "      border: none;\n",
              "      border-radius: 50%;\n",
              "      cursor: pointer;\n",
              "      display: none;\n",
              "      fill: #1967D2;\n",
              "      height: 32px;\n",
              "      padding: 0 0 0 0;\n",
              "      width: 32px;\n",
              "    }\n",
              "\n",
              "    .colab-df-convert:hover {\n",
              "      background-color: #E2EBFA;\n",
              "      box-shadow: 0px 1px 2px rgba(60, 64, 67, 0.3), 0px 1px 3px 1px rgba(60, 64, 67, 0.15);\n",
              "      fill: #174EA6;\n",
              "    }\n",
              "\n",
              "    [theme=dark] .colab-df-convert {\n",
              "      background-color: #3B4455;\n",
              "      fill: #D2E3FC;\n",
              "    }\n",
              "\n",
              "    [theme=dark] .colab-df-convert:hover {\n",
              "      background-color: #434B5C;\n",
              "      box-shadow: 0px 1px 3px 1px rgba(0, 0, 0, 0.15);\n",
              "      filter: drop-shadow(0px 1px 2px rgba(0, 0, 0, 0.3));\n",
              "      fill: #FFFFFF;\n",
              "    }\n",
              "  </style>\n",
              "\n",
              "      <script>\n",
              "        const buttonEl =\n",
              "          document.querySelector('#df-90f7e58b-28e5-4781-a0f8-b904956a2eb4 button.colab-df-convert');\n",
              "        buttonEl.style.display =\n",
              "          google.colab.kernel.accessAllowed ? 'block' : 'none';\n",
              "\n",
              "        async function convertToInteractive(key) {\n",
              "          const element = document.querySelector('#df-90f7e58b-28e5-4781-a0f8-b904956a2eb4');\n",
              "          const dataTable =\n",
              "            await google.colab.kernel.invokeFunction('convertToInteractive',\n",
              "                                                     [key], {});\n",
              "          if (!dataTable) return;\n",
              "\n",
              "          const docLinkHtml = 'Like what you see? Visit the ' +\n",
              "            '<a target=\"_blank\" href=https://colab.research.google.com/notebooks/data_table.ipynb>data table notebook</a>'\n",
              "            + ' to learn more about interactive tables.';\n",
              "          element.innerHTML = '';\n",
              "          dataTable['output_type'] = 'display_data';\n",
              "          await google.colab.output.renderOutput(dataTable, element);\n",
              "          const docLink = document.createElement('div');\n",
              "          docLink.innerHTML = docLinkHtml;\n",
              "          element.appendChild(docLink);\n",
              "        }\n",
              "      </script>\n",
              "    </div>\n",
              "  </div>\n",
              "  "
            ]
          },
          "metadata": {},
          "execution_count": 15
        }
      ]
    },
    {
      "cell_type": "code",
      "source": [
        "Y_1=encoded.iloc[:,-4]\n",
        "Y_2=encoded.iloc[:,-3]\n",
        "Y_3=encoded.iloc[:,-2]\n",
        "Y_4=encoded.iloc[:,-1]"
      ],
      "metadata": {
        "id": "YOhjITFMIle1"
      },
      "execution_count": null,
      "outputs": []
    },
    {
      "cell_type": "code",
      "source": [
        "# Dividing data into test and train\n",
        "from sklearn.model_selection import train_test_split\n",
        "X1_train, X1_test, Y1_train, Y1_test = train_test_split(X_scaled, Y_1, test_size=0.3, random_state=42)\n",
        "X2_train, X2_test, Y2_train, Y2_test = train_test_split(X_scaled, Y_2, test_size=0.3, random_state=42)\n",
        "X3_train, X3_test, Y3_train, Y3_test = train_test_split(X_scaled, Y_3, test_size=0.3, random_state=42)\n",
        "X4_train, X4_test, Y4_train, Y4_test = train_test_split(X_scaled, Y_4, test_size=0.3, random_state=42)"
      ],
      "metadata": {
        "id": "js4CYPpExakH"
      },
      "execution_count": null,
      "outputs": []
    },
    {
      "cell_type": "code",
      "source": [
        "Y_1.head()"
      ],
      "metadata": {
        "colab": {
          "base_uri": "https://localhost:8080/"
        },
        "id": "L72MRdJL1vZE",
        "outputId": "b039b197-112c-4386-9e29-fc4742abedac"
      },
      "execution_count": null,
      "outputs": [
        {
          "output_type": "execute_result",
          "data": {
            "text/plain": [
              "0    0\n",
              "1    1\n",
              "2    0\n",
              "3    0\n",
              "4    0\n",
              "Name: absenteeism in hours_0, dtype: uint8"
            ]
          },
          "metadata": {},
          "execution_count": 18
        }
      ]
    },
    {
      "cell_type": "code",
      "source": [
        "Y_2.head()"
      ],
      "metadata": {
        "colab": {
          "base_uri": "https://localhost:8080/"
        },
        "id": "2xNz1i0pKZX7",
        "outputId": "c061618b-ac8b-446f-9631-62c74715ac49"
      },
      "execution_count": null,
      "outputs": [
        {
          "output_type": "execute_result",
          "data": {
            "text/plain": [
              "0    0\n",
              "1    0\n",
              "2    1\n",
              "3    0\n",
              "4    1\n",
              "Name: absenteeism in hours_1, dtype: uint8"
            ]
          },
          "metadata": {},
          "execution_count": 19
        }
      ]
    },
    {
      "cell_type": "code",
      "source": [
        "Y_3.head()"
      ],
      "metadata": {
        "colab": {
          "base_uri": "https://localhost:8080/"
        },
        "id": "0i9hxJ08KckT",
        "outputId": "87095780-3798-418d-ecec-f824187f241e"
      },
      "execution_count": null,
      "outputs": [
        {
          "output_type": "execute_result",
          "data": {
            "text/plain": [
              "0    1\n",
              "1    0\n",
              "2    0\n",
              "3    1\n",
              "4    0\n",
              "Name: absenteeism in hours_2, dtype: uint8"
            ]
          },
          "metadata": {},
          "execution_count": 20
        }
      ]
    },
    {
      "cell_type": "code",
      "source": [
        "Y_4.head()"
      ],
      "metadata": {
        "colab": {
          "base_uri": "https://localhost:8080/"
        },
        "id": "1VND1JUsKedE",
        "outputId": "44b8a1e1-0986-4a01-ee08-e4deed7fb21c"
      },
      "execution_count": null,
      "outputs": [
        {
          "output_type": "execute_result",
          "data": {
            "text/plain": [
              "0    0\n",
              "1    0\n",
              "2    0\n",
              "3    0\n",
              "4    0\n",
              "Name: absenteeism in hours_3, dtype: uint8"
            ]
          },
          "metadata": {},
          "execution_count": 21
        }
      ]
    },
    {
      "cell_type": "code",
      "source": [
        "def logistic_regression(n,alpha,X_train,lda,Y_train):\n",
        "    m,k=X_train.shape\n",
        "    beta=np.zeros(k)\n",
        "    for i in range(n):\n",
        "        cost_gradient=np.zeros(k)\n",
        "        z=X_train.dot(beta)\n",
        "        predicted=1/(1+np.exp(-z))\n",
        "        difference=predicted-Y_train\n",
        "        for j in range(k):\n",
        "            cost_gradient[j]=np.sum(difference.dot(X_train[:,j]))\n",
        "        for j in range(k):\n",
        "            beta[j]=beta[j]*(1-(alpha*lda/m))-(alpha/m)*cost_gradient[j]\n",
        "    #print(beta)\n",
        "    return beta"
      ],
      "metadata": {
        "id": "pwFxChLC2gvb"
      },
      "execution_count": null,
      "outputs": []
    },
    {
      "cell_type": "code",
      "source": [
        "X1_train_copy = X1_train\n",
        "X2_train_copy = X2_train\n",
        "X3_train_copy = X3_train\n",
        "X4_train_copy = X4_train"
      ],
      "metadata": {
        "id": "J6E4uV9h-X-9"
      },
      "execution_count": null,
      "outputs": []
    },
    {
      "cell_type": "code",
      "source": [
        "X1_train[1] = X1_train[1] / 100\n",
        "X1_train[2] = X1_train[2] / 10\n",
        "X1_train[3] = X1_train[3] / 10\n",
        "X1_train[4] = X1_train[4] / 10\n",
        "X1_train[5] = X1_train[5] / 1000\n",
        "X1_train[6] = X1_train[6] / 100\n",
        "X1_train[7] = X1_train[7] / 10\n",
        "X1_train[8] = X1_train[8] / 100\n",
        "X1_train[9] = X1_train[9] / 1000\n",
        "X1_train[10] = X1_train[10] / 100\n",
        "X1_train[12] = X1_train[12] / 10\n",
        "X1_train[13] = X1_train[13] / 10\n",
        "X1_train[16] = X1_train[16] / 10\n",
        "X1_train[17] = X1_train[17] / 100\n",
        "X1_train[18] = X1_train[18] / 1000\n",
        "X1_train[19] = X1_train[19] / 100"
      ],
      "metadata": {
        "id": "I_vDaCt69wY5"
      },
      "execution_count": null,
      "outputs": []
    },
    {
      "cell_type": "code",
      "source": [
        "X2_train[1] = X2_train[1] / 100\n",
        "X2_train[2] = X2_train[2] / 10\n",
        "X2_train[3] = X2_train[3] / 10\n",
        "X2_train[4] = X2_train[4] / 10\n",
        "X2_train[5] = X2_train[5] / 1000\n",
        "X2_train[6] = X2_train[6] / 100\n",
        "X2_train[7] = X2_train[7] / 10\n",
        "X2_train[8] = X2_train[8] / 100\n",
        "X2_train[9] = X2_train[9] / 1000\n",
        "X2_train[10] = X2_train[10] / 100\n",
        "X2_train[12] = X2_train[12] / 10\n",
        "X2_train[13] = X2_train[13] / 10\n",
        "X2_train[16] = X2_train[16] / 10\n",
        "X2_train[17] = X2_train[17] / 100\n",
        "X2_train[18] = X2_train[18] / 1000\n",
        "X2_train[19] = X2_train[19] / 100"
      ],
      "metadata": {
        "id": "21htkmpLGZCZ"
      },
      "execution_count": null,
      "outputs": []
    },
    {
      "cell_type": "code",
      "source": [
        "X3_train[1] = X3_train[1] / 100\n",
        "X3_train[2] = X3_train[2] / 10\n",
        "X3_train[3] = X3_train[3] / 10\n",
        "X3_train[4] = X3_train[4] / 10\n",
        "X3_train[5] = X3_train[5] / 1000\n",
        "X3_train[6] = X3_train[6] / 100\n",
        "X3_train[7] = X3_train[7] / 10\n",
        "X3_train[8] = X3_train[8] / 100\n",
        "X3_train[9] = X3_train[9] / 1000\n",
        "X3_train[10] = X3_train[10] / 100\n",
        "X3_train[12] = X3_train[12] / 10\n",
        "X3_train[13] = X3_train[13] / 10\n",
        "X3_train[16] = X3_train[16] / 10\n",
        "X3_train[17] = X3_train[17] / 100\n",
        "X3_train[18] = X3_train[18] / 1000\n",
        "X3_train[19] = X3_train[19] / 100"
      ],
      "metadata": {
        "id": "2SYF4k6qGZ0X"
      },
      "execution_count": null,
      "outputs": []
    },
    {
      "cell_type": "code",
      "source": [
        "X4_train[1] = X4_train[1] / 100\n",
        "X4_train[2] = X4_train[2] / 10\n",
        "X4_train[3] = X4_train[3] / 10\n",
        "X4_train[4] = X4_train[4] / 10\n",
        "X4_train[5] = X4_train[5] / 1000\n",
        "X4_train[6] = X4_train[6] / 100\n",
        "X4_train[7] = X4_train[7] / 10\n",
        "X4_train[8] = X4_train[8] / 100\n",
        "X4_train[9] = X4_train[9] / 1000\n",
        "X4_train[10] = X4_train[10] / 100\n",
        "X4_train[12] = X4_train[12] / 10\n",
        "X4_train[13] = X4_train[13] / 10\n",
        "X4_train[16] = X4_train[16] / 10\n",
        "X4_train[17] = X4_train[17] / 100\n",
        "X4_train[18] = X4_train[18] / 1000\n",
        "X4_train[19] = X4_train[19] / 100"
      ],
      "metadata": {
        "id": "TB7h9ekAGZ4P"
      },
      "execution_count": null,
      "outputs": []
    },
    {
      "cell_type": "code",
      "source": [
        "beta1 = logistic_regression(10000,0.1,X1_train,0.2,Y1_train)"
      ],
      "metadata": {
        "colab": {
          "base_uri": "https://localhost:8080/"
        },
        "id": "-MC39lc83Hsf",
        "outputId": "168f78e9-7d45-4b16-e9d4-fd5720960469"
      },
      "execution_count": null,
      "outputs": [
        {
          "output_type": "stream",
          "name": "stderr",
          "text": [
            "/usr/local/lib/python3.7/dist-packages/ipykernel_launcher.py:7: RuntimeWarning: overflow encountered in exp\n",
            "  import sys\n"
          ]
        }
      ]
    },
    {
      "cell_type": "code",
      "source": [
        "beta2 = logistic_regression(5000,0.5,X2_train,0.2,Y2_train)"
      ],
      "metadata": {
        "colab": {
          "base_uri": "https://localhost:8080/"
        },
        "id": "rSR8nVISKuGE",
        "outputId": "de09d21b-3a75-48a4-a70a-7d984357802a"
      },
      "execution_count": null,
      "outputs": [
        {
          "output_type": "stream",
          "name": "stderr",
          "text": [
            "/usr/local/lib/python3.7/dist-packages/ipykernel_launcher.py:7: RuntimeWarning: overflow encountered in exp\n",
            "  import sys\n"
          ]
        }
      ]
    },
    {
      "cell_type": "code",
      "source": [
        "max_accuracy = 0\n",
        "best_beta = beta2\n",
        "best_n = 0\n",
        "best_lr = 0\n",
        "for n_val in range(4000,6000,1000):\n",
        "    print('Running '+(str)(n_val))\n",
        "    for lr_val_loop in range(0,500,1):\n",
        "        lr_val = lr_val_loop / 1000\n",
        "        if lr_val%50 == 0:\n",
        "            print('Loop  '+(str)(lr_val))\n",
        "        test = logistic_regression(n_val,lr_val,X2_train,0.2,Y2_train)\n",
        "        Y2_predict=1/(1+np.exp(-(X2_test.dot(test))))\n",
        "        Y2_label=np.zeros(len(Y2_predict))\n",
        "        for i in range(len(Y2_predict)):\n",
        "            if(Y2_predict[i]>=0.5):\n",
        "                Y2_label[i]=1\n",
        "        TP2=0\n",
        "        TN2=0\n",
        "        FP2=0\n",
        "        FN2=0\n",
        "        Y2_test=np.array(Y2_test).reshape(-1,1)\n",
        "        for i in range(len(Y2_label)):\n",
        "            if(Y2_test[i]==1 and Y2_label[i]==1):\n",
        "                TP2=TP2+1\n",
        "            if(Y2_test[i]==1 and Y2_label[i]==0):\n",
        "                FN2=FN2+1\n",
        "            if(Y2_test[i]==0 and Y2_label[i]==1):\n",
        "                FP2=FP2+1\n",
        "            if(Y2_test[i]==0 and Y2_label[i]==0):\n",
        "                TN2=TN2+1\n",
        "        #print(TP2,TN2,FP2,FN2)\n",
        "        accpos = TP2/(TP2+FP2+1)\n",
        "        accneg = TN2/(TN2+FN2+1)\n",
        "        acc = accpos\n",
        "        if acc>max_accuracy:\n",
        "            max_accuracy = acc\n",
        "            best_beta = test\n",
        "            best_n = n_val\n",
        "            best_lr = lr_val\n",
        "            print(max_accuracy)\n",
        "            print(best_n)\n",
        "            print(best_lr)\n",
        "            print()\n",
        "print(max_accuracy)\n",
        "print(best_n)\n",
        "print(best_lr)\n",
        "print(best_beta)\n",
        "beta2 = best_beta"
      ],
      "metadata": {
        "colab": {
          "base_uri": "https://localhost:8080/"
        },
        "id": "m2nYtKpQ0zkI",
        "outputId": "cf243f83-fe6e-4e8b-f101-626cba4dc2f6"
      },
      "execution_count": null,
      "outputs": [
        {
          "output_type": "stream",
          "name": "stdout",
          "text": [
            "Running 4000\n",
            "Loop  0.0\n",
            "0.22869955156950672\n",
            "4000\n",
            "0.0\n",
            "\n",
            "0.35714285714285715\n",
            "4000\n",
            "0.001\n",
            "\n"
          ]
        },
        {
          "output_type": "stream",
          "name": "stderr",
          "text": [
            "/usr/local/lib/python3.7/dist-packages/ipykernel_launcher.py:7: RuntimeWarning: overflow encountered in exp\n",
            "  import sys\n"
          ]
        },
        {
          "output_type": "stream",
          "name": "stdout",
          "text": [
            "0.3779527559055118\n",
            "4000\n",
            "0.005\n",
            "\n"
          ]
        },
        {
          "output_type": "stream",
          "name": "stderr",
          "text": [
            "/usr/local/lib/python3.7/dist-packages/ipykernel_launcher.py:12: RuntimeWarning: overflow encountered in exp\n",
            "  if sys.path[0] == '':\n"
          ]
        },
        {
          "output_type": "stream",
          "name": "stdout",
          "text": [
            "0.5\n",
            "4000\n",
            "0.019\n",
            "\n",
            "Running 5000\n",
            "Loop  0.0\n",
            "0.5\n",
            "4000\n",
            "0.019\n",
            "[ 0.06081817 17.55053417 -8.91789589  2.42655002 -0.31253456 -1.77405679\n",
            " -3.79948735  0.18761155  0.02612692 -1.63345213  7.99198139 -0.08722895\n",
            "  1.25584359 -2.15158179 -1.40893789 -0.02594098  0.35787784 -6.29623194\n",
            " -0.3552972   1.45168485]\n"
          ]
        }
      ]
    },
    {
      "cell_type": "code",
      "source": [
        "beta3 = logistic_regression(5000,0.1,X3_train_copy,0.2,Y3_train)"
      ],
      "metadata": {
        "colab": {
          "base_uri": "https://localhost:8080/"
        },
        "id": "NmQp6dOHKuPd",
        "outputId": "8dda0400-5e1e-4177-de97-4714cb995d8c"
      },
      "execution_count": null,
      "outputs": [
        {
          "output_type": "stream",
          "name": "stderr",
          "text": [
            "/usr/local/lib/python3.7/dist-packages/ipykernel_launcher.py:7: RuntimeWarning: overflow encountered in exp\n",
            "  import sys\n"
          ]
        }
      ]
    },
    {
      "cell_type": "code",
      "source": [
        "beta4 = logistic_regression(10000,0.001,X4_train,0.2,Y4_train)"
      ],
      "metadata": {
        "id": "0GUcx3auKuXs"
      },
      "execution_count": null,
      "outputs": []
    },
    {
      "cell_type": "markdown",
      "source": [
        "# Predicting and Labelling"
      ],
      "metadata": {
        "id": "R5DYuyoz3wgv"
      }
    },
    {
      "cell_type": "code",
      "source": [
        "Y1_predict=1/(1+np.exp(-(X1_test.dot(beta1))))\n",
        "Y1_label=np.ones(len(Y1_predict))\n",
        "for i in range(len(Y1_predict)):\n",
        "    if(Y1_predict[i]<0.5):\n",
        "        Y1_label[i]=0"
      ],
      "metadata": {
        "id": "dUJJsFV93ykm",
        "colab": {
          "base_uri": "https://localhost:8080/"
        },
        "outputId": "c178cdeb-ee66-4a48-b841-ea535a0bcae2"
      },
      "execution_count": null,
      "outputs": [
        {
          "output_type": "stream",
          "name": "stderr",
          "text": [
            "/usr/local/lib/python3.7/dist-packages/ipykernel_launcher.py:1: RuntimeWarning: overflow encountered in exp\n",
            "  \"\"\"Entry point for launching an IPython kernel.\n"
          ]
        }
      ]
    },
    {
      "cell_type": "code",
      "source": [
        "Y2_predict=1/(1+np.exp(-(X2_test.dot(beta2))))\n",
        "Y2_label=np.zeros(len(Y2_predict))\n",
        "for i in range(len(Y2_predict)):\n",
        "    if(Y2_predict[i]>=0.5):\n",
        "        Y2_label[i]=1"
      ],
      "metadata": {
        "id": "Kj3DrhDwLFFk",
        "colab": {
          "base_uri": "https://localhost:8080/"
        },
        "outputId": "888aa8cb-4cdb-45ad-e150-51d6dd2d1353"
      },
      "execution_count": null,
      "outputs": [
        {
          "output_type": "stream",
          "name": "stderr",
          "text": [
            "/usr/local/lib/python3.7/dist-packages/ipykernel_launcher.py:1: RuntimeWarning: overflow encountered in exp\n",
            "  \"\"\"Entry point for launching an IPython kernel.\n"
          ]
        }
      ]
    },
    {
      "cell_type": "code",
      "source": [
        "Y3_predict=1/(1+np.exp(-(X3_test.dot(beta3))))\n",
        "Y3_label=np.zeros(len(Y3_predict))\n",
        "for i in range(len(Y3_predict)):\n",
        "    if(Y3_predict[i]>=0.5):\n",
        "        Y1_label[i]=1"
      ],
      "metadata": {
        "id": "TRAK449ELFMo",
        "colab": {
          "base_uri": "https://localhost:8080/"
        },
        "outputId": "a4d5d772-65e9-404f-d313-21d614e9fcb7"
      },
      "execution_count": null,
      "outputs": [
        {
          "output_type": "stream",
          "name": "stderr",
          "text": [
            "/usr/local/lib/python3.7/dist-packages/ipykernel_launcher.py:1: RuntimeWarning: overflow encountered in exp\n",
            "  \"\"\"Entry point for launching an IPython kernel.\n"
          ]
        }
      ]
    },
    {
      "cell_type": "code",
      "source": [
        "Y4_predict=1/(1+np.exp(-(X4_test.dot(beta4))))\n",
        "Y4_label=np.zeros(len(Y4_predict))\n",
        "for i in range(len(Y4_predict)):\n",
        "    if(Y4_predict[i]>=0.5):\n",
        "        Y4_label[i]=1"
      ],
      "metadata": {
        "id": "fnWbfkCpLFZK"
      },
      "execution_count": null,
      "outputs": []
    },
    {
      "cell_type": "markdown",
      "source": [
        "# Performance Evaluation"
      ],
      "metadata": {
        "id": "vR3UxcjE33yP"
      }
    },
    {
      "cell_type": "code",
      "source": [
        "TP1=0\n",
        "TN1=0\n",
        "FP1=0\n",
        "FN1=0\n",
        "Y1_test=np.array(Y1_test).reshape(-1,1)\n",
        "for i in range(len(Y1_label)):\n",
        "    if(Y1_test[i]==1 and Y1_label[i]==1):\n",
        "        TP1=TP1+1\n",
        "    if(Y1_test[i]==1 and Y1_label[i]==0):\n",
        "        FN1=FN1+1\n",
        "    if(Y1_test[i]==0 and Y1_label[i]==1):\n",
        "        FP1=FP1+1\n",
        "    if(Y1_test[i]==0 and Y1_label[i]==0):\n",
        "        TN1=TN1+1"
      ],
      "metadata": {
        "id": "cR04lLUj356a"
      },
      "execution_count": null,
      "outputs": []
    },
    {
      "cell_type": "code",
      "source": [
        "print(TP1,TN1,FP1,FN1)\n",
        "print((TP1/(TP1+FP1)))\n",
        "print((TN1/(TN1+FN1)))"
      ],
      "metadata": {
        "colab": {
          "base_uri": "https://localhost:8080/"
        },
        "id": "PC3PHKIqLW6E",
        "outputId": "eb68c86c-15dc-40fa-f807-612163fa1963"
      },
      "execution_count": null,
      "outputs": [
        {
          "output_type": "stream",
          "name": "stdout",
          "text": [
            "134 69 9 10\n",
            "0.9370629370629371\n",
            "0.8734177215189873\n"
          ]
        }
      ]
    },
    {
      "cell_type": "code",
      "source": [
        "TP2=0\n",
        "TN2=0\n",
        "FP2=0\n",
        "FN2=0\n",
        "Y2_test=np.array(Y2_test).reshape(-1,1)\n",
        "for i in range(len(Y2_label)):\n",
        "    if(Y2_test[i]==1 and Y2_label[i]==1):\n",
        "        TP2=TP2+1\n",
        "    if(Y2_test[i]==1 and Y2_label[i]==0):\n",
        "        FN2=FN2+1\n",
        "    if(Y2_test[i]==0 and Y2_label[i]==1):\n",
        "        FP2=FP2+1\n",
        "    if(Y2_test[i]==0 and Y2_label[i]==0):\n",
        "        TN2=TN2+1\n"
      ],
      "metadata": {
        "id": "wMj-D1azLljF"
      },
      "execution_count": null,
      "outputs": []
    },
    {
      "cell_type": "code",
      "source": [
        "print(TP2,TN2,FP2,FN2)\n",
        "print((TP2/(TP2+FP2)))\n",
        "print((TN2/(TN2+FN2)))"
      ],
      "metadata": {
        "colab": {
          "base_uri": "https://localhost:8080/"
        },
        "id": "YtWimhm6LzV6",
        "outputId": "41c1a7ce-0767-4885-dc75-45b17f8832f7"
      },
      "execution_count": null,
      "outputs": [
        {
          "output_type": "stream",
          "name": "stdout",
          "text": [
            "45 163 8 6\n",
            "0.8490566037735849\n",
            "0.9644970414201184\n"
          ]
        }
      ]
    },
    {
      "cell_type": "code",
      "source": [
        "TP3=0\n",
        "TN3=0\n",
        "FP3=0\n",
        "FN3=0\n",
        "Y3_test=np.array(Y3_test).reshape(-1,1)\n",
        "for i in range(len(Y3_label)):\n",
        "    if(Y3_test[i]==1 and Y3_label[i]==1):\n",
        "        TP3=TP3+1\n",
        "    if(Y3_test[i]==1 and Y3_label[i]==0):\n",
        "        FN3=FN3+1\n",
        "    if(Y3_test[i]==0 and Y3_label[i]==1):\n",
        "        FP3=FP3+1\n",
        "    if(Y3_test[i]==0 and Y3_label[i]==0):\n",
        "        TN3=TN3+1"
      ],
      "metadata": {
        "id": "TX2zSjKzLlnI"
      },
      "execution_count": null,
      "outputs": []
    },
    {
      "cell_type": "code",
      "source": [
        "print(TP3,TN3,FP3,FN3)\n",
        "print((TP3/(TP3+FP3)))\n",
        "print((TN3/(TN3+FN3)))"
      ],
      "metadata": {
        "colab": {
          "base_uri": "https://localhost:8080/"
        },
        "id": "iOOn03ASMFKH",
        "outputId": "b77c1bf9-94b7-4fca-dff3-6ac0b1ba29b2"
      },
      "execution_count": null,
      "outputs": [
        {
          "output_type": "stream",
          "name": "stdout",
          "text": [
            "50 167 2 5\n",
            "0.9615384615384616\n",
            "0.9709302325581395\n"
          ]
        }
      ]
    },
    {
      "cell_type": "code",
      "source": [
        "TP4=0\n",
        "TN4=0\n",
        "FP4=0\n",
        "FN4=0\n",
        "Y4_test=np.array(Y4_test).reshape(-1,1)\n",
        "for i in range(len(Y4_label)):\n",
        "    if(Y4_test[i]==1 and Y4_label[i]==1):\n",
        "        TP4=TP4+1\n",
        "    if(Y4_test[i]==1 and Y4_label[i]==0):\n",
        "        FN4=FN4+1\n",
        "    if(Y4_test[i]==0 and Y4_label[i]==1):\n",
        "        FP4=FP4+1\n",
        "    if(Y4_test[i]==0 and Y4_label[i]==0):\n",
        "        TN4=TN4+1"
      ],
      "metadata": {
        "id": "aL09_bMTLlqr"
      },
      "execution_count": null,
      "outputs": []
    },
    {
      "cell_type": "code",
      "source": [
        "print(TP4,TN4,FP4,FN4)\n",
        "print((TP4/(TP4+FP4)))\n",
        "print((TN4/(TN4+FN4)))"
      ],
      "metadata": {
        "colab": {
          "base_uri": "https://localhost:8080/"
        },
        "id": "IiWSyD4iMjMh",
        "outputId": "bfba2e0e-370b-4496-ac04-6bc5c19454cb"
      },
      "execution_count": null,
      "outputs": [
        {
          "output_type": "stream",
          "name": "stdout",
          "text": [
            "75 142 3 2\n",
            "0.9615384615384616\n",
            "0.9861111111111112\n"
          ]
        }
      ]
    },
    {
      "cell_type": "code",
      "source": [
        "accuracy1=(((TP1)/(TP1+FP1))+((TN1)/(TN1+FN1)))/2\n",
        "accuracy2=(((TP2)/(TP2+FP2))+((TN2)/(TN2+FN2)))/2\n",
        "accuracy3=(((TP3)/(TP3+FP3))+((TN3)/(TN3+FN3)))/2\n",
        "accuracy4=(((TP4)/(TP4+FP4))+((TN4)/(TN4+FN4)))/2\n",
        "avg_accuracy=(accuracy1+accuracy2+accuracy3+accuracy4)/4"
      ],
      "metadata": {
        "id": "Ln4A7z1a4FWY"
      },
      "execution_count": null,
      "outputs": []
    },
    {
      "cell_type": "code",
      "source": [
        "print('Accuracy for classifying class 1 = ',accuracy1)\n",
        "print('Accuracy for classifying class 2 = ',accuracy2)\n",
        "print('Accuracy for classifying class 3 = ',accuracy3)\n",
        "print('Accuracy for classifying class 4 = ',accuracy4)"
      ],
      "metadata": {
        "colab": {
          "base_uri": "https://localhost:8080/"
        },
        "id": "ZdPUXEEMNxIW",
        "outputId": "6108056c-3e28-4fda-e259-1432e5fedf9b"
      },
      "execution_count": null,
      "outputs": [
        {
          "output_type": "stream",
          "name": "stdout",
          "text": [
            "Accuracy for classifying class 1 =  0.9052403292909622\n",
            "Accuracy for classifying class 2 =  0.9067768225968517\n",
            "Accuracy for classifying class 3 =  0.9662343470483006\n",
            "Accuracy for classifying class 4 =  0.9738247863247864\n"
          ]
        }
      ]
    },
    {
      "cell_type": "code",
      "source": [
        "print('Average Accuracy = ',avg_accuracy)"
      ],
      "metadata": {
        "colab": {
          "base_uri": "https://localhost:8080/"
        },
        "id": "W3kYFxdPOSN7",
        "outputId": "744253f9-cade-4b14-e9dc-5df7a3a272d3"
      },
      "execution_count": null,
      "outputs": [
        {
          "output_type": "stream",
          "name": "stdout",
          "text": [
            "Average Accuracy =  0.9380190713152252\n"
          ]
        }
      ]
    }
  ]
}